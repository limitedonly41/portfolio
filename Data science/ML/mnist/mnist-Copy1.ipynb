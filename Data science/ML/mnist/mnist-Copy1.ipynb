{
 "cells": [
  {
   "cell_type": "markdown",
   "metadata": {
    "colab_type": "text",
    "id": "zJlE7LgVBmUY"
   },
   "source": [
    "# Welcome to the final project!\n",
    "In this notebook you will be asked to use singular value decomposition and SVM to classify images. We will be working with the MNIST numbers dataset, where training data consist of pictures of digits, and the target value is the digit itself."
   ]
  },
  {
   "cell_type": "markdown",
   "metadata": {
    "colab_type": "text",
    "id": "yXwgZx4zNbRZ"
   },
   "source": [
    "First, we import the necessary libraries."
   ]
  },
  {
   "cell_type": "code",
   "execution_count": 1,
   "metadata": {
    "colab": {},
    "colab_type": "code",
    "id": "kMBwuxiCBmUf"
   },
   "outputs": [],
   "source": [
    "import numpy as np\n",
    "from numpy.linalg import svd\n",
    "import matplotlib.pyplot as plt\n",
    "from sklearn.decomposition import PCA\n",
    "from sklearn.svm import LinearSVC\n",
    "from sklearn.metrics import accuracy_score\n",
    "from sklearn.preprocessing import StandardScaler"
   ]
  },
  {
   "cell_type": "markdown",
   "metadata": {},
   "source": [
    "Now, we read both training and test dataset as arrays. "
   ]
  },
  {
   "cell_type": "code",
   "execution_count": 2,
   "metadata": {
    "colab": {
     "base_uri": "https://localhost:8080/",
     "height": 69
    },
    "colab_type": "code",
    "id": "fg9JsZ70BmUa",
    "outputId": "6a3dbfc7-41b4-4d78-afc9-3ceaf3f10500"
   },
   "outputs": [],
   "source": [
    "data = np.load('mnist.npz')\n",
    "X_test_total, X_train_total, y_train_total, y_test_total = data['x_test'], data['x_train'], data['y_train'], data['y_test']"
   ]
  },
  {
   "cell_type": "markdown",
   "metadata": {
    "colab_type": "text",
    "id": "M-GsL4osovz3"
   },
   "source": [
    "Let's select two digits that we will be learning to separate, for example 3 and 8."
   ]
  },
  {
   "cell_type": "code",
   "execution_count": 3,
   "metadata": {
    "colab": {},
    "colab_type": "code",
    "id": "oWgDAtcnpA7a"
   },
   "outputs": [],
   "source": [
    "num1, num2 = 3, 8"
   ]
  },
  {
   "cell_type": "markdown",
   "metadata": {
    "colab_type": "text",
    "id": "0qr-a0lnLCSH"
   },
   "source": [
    "Let us form the lists of indices i such that the target of i-th object of our training data is either num1 or num2. Do the same for the test dataset."
   ]
  },
  {
   "cell_type": "code",
   "execution_count": 4,
   "metadata": {
    "colab": {},
    "colab_type": "code",
    "id": "35Zf01xgpsHq"
   },
   "outputs": [],
   "source": [
    "train_indx = [y == num1 or y == num2 for y in y_train_total] \n",
    "test_indx = [y == num1 or y == num2 for y in y_test_total] "
   ]
  },
  {
   "cell_type": "markdown",
   "metadata": {
    "colab_type": "text",
    "id": "CJwF_Ux9LBVK"
   },
   "source": [
    "Form new arrays consisting of the data with the target values num1 and num2 only. "
   ]
  },
  {
   "cell_type": "code",
   "execution_count": 5,
   "metadata": {
    "colab": {},
    "colab_type": "code",
    "id": "NJuZq_jdooq2"
   },
   "outputs": [],
   "source": [
    "X_train, y_train = X_train_total[train_indx], y_train_total[train_indx]\n",
    "X_test, y_test = X_test_total[test_indx], y_test_total[test_indx]"
   ]
  },
  {
   "cell_type": "markdown",
   "metadata": {
    "colab_type": "text",
    "id": "z3p-sRORaucy"
   },
   "source": [
    "The following two cells ensure automatic grading."
   ]
  },
  {
   "cell_type": "code",
   "execution_count": 6,
   "metadata": {
    "colab": {},
    "colab_type": "code",
    "id": "4IRHTqbuaOg2"
   },
   "outputs": [],
   "source": [
    "# import sys\n",
    "# sys.path.append(\"..\")\n",
    "\n",
    "# import grading\n",
    "# grader = grading.Grader(assignment_key=\"5QcKcr06RZWNXOR6ZubzOg\", \n",
    "#                       all_parts=[\"EGrPV\", \"LtYil\", \"otUqA\", \"o4nIb\", \"rZkTW\", \"keYiw\"])"
   ]
  },
  {
   "cell_type": "code",
   "execution_count": 7,
   "metadata": {
    "colab": {},
    "colab_type": "code",
    "id": "_BtlQrdcasmg"
   },
   "outputs": [],
   "source": [
    "# # token expires every 30 min\n",
    "# COURSERA_TOKEN = # YOUR COURSERA TOKEN HERE (can be found in Programming section)\n",
    "# COURSERA_EMAIL = # YOUR COURSERA EMAIL HERE"
   ]
  },
  {
   "cell_type": "markdown",
   "metadata": {
    "colab_type": "text",
    "id": "OU0lGhGNBmUl"
   },
   "source": [
    "## Looking at the data"
   ]
  },
  {
   "cell_type": "markdown",
   "metadata": {
    "colab_type": "text",
    "id": "49qpdwwBNmcO"
   },
   "source": [
    "Let us check the sizes of the datasets and the shape of one image."
   ]
  },
  {
   "cell_type": "code",
   "execution_count": 8,
   "metadata": {
    "colab": {
     "base_uri": "https://localhost:8080/",
     "height": 102
    },
    "colab_type": "code",
    "id": "hVKvbThsBmUn",
    "outputId": "40a2d397-8757-4329-d7ae-d5a8434d44ca"
   },
   "outputs": [
    {
     "name": "stdout",
     "output_type": "stream",
     "text": [
      "Data shapes: \n",
      "X_train:  (11982, 28, 28)\n",
      "y_train:  (11982,)\n",
      "X_test:  (1984, 28, 28)\n",
      "y_test:  (1984,)\n"
     ]
    }
   ],
   "source": [
    "print('Data shapes: ')\n",
    "print('X_train: ', X_train.shape)\n",
    "print('y_train: ', y_train.shape)\n",
    "print('X_test: ', X_test.shape)\n",
    "print('y_test: ', y_test.shape)"
   ]
  },
  {
   "cell_type": "code",
   "execution_count": 9,
   "metadata": {
    "colab": {
     "base_uri": "https://localhost:8080/",
     "height": 34
    },
    "colab_type": "code",
    "id": "P1EklRAaBmUr",
    "outputId": "835c6843-fdb0-4233-eef3-389c10a61df5"
   },
   "outputs": [
    {
     "data": {
      "text/plain": [
       "(11982, 1984)"
      ]
     },
     "execution_count": 9,
     "metadata": {},
     "output_type": "execute_result"
    }
   ],
   "source": [
    "n_train = X_train.shape[0]\n",
    "n_test = X_test.shape[0]\n",
    "\n",
    "n_train, n_test"
   ]
  },
  {
   "cell_type": "code",
   "execution_count": 10,
   "metadata": {
    "colab": {
     "base_uri": "https://localhost:8080/",
     "height": 51
    },
    "colab_type": "code",
    "id": "FZmNEYdDBmUv",
    "outputId": "17de9137-1fef-4bd4-ef41-ed998e47b0c6"
   },
   "outputs": [
    {
     "name": "stdout",
     "output_type": "stream",
     "text": [
      "Shape of one item: \n",
      "(28, 28)\n"
     ]
    }
   ],
   "source": [
    "print('Shape of one item: ')\n",
    "print(X_train[0].shape)"
   ]
  },
  {
   "cell_type": "markdown",
   "metadata": {
    "colab_type": "text",
    "id": "ERvQjZU5BmU0"
   },
   "source": [
    "Train data are images of digits."
   ]
  },
  {
   "cell_type": "code",
   "execution_count": 11,
   "metadata": {
    "colab": {
     "base_uri": "https://localhost:8080/",
     "height": 441
    },
    "colab_type": "code",
    "id": "lWsCw2hQBmU0",
    "outputId": "6c9968ce-e647-4fc4-ee06-4ab055cc98e9"
   },
   "outputs": [
    {
     "data": {
      "image/png": "[encoded data removed]",
      "text/plain": [
       "<Figure size 432x432 with 9 Axes>"
      ]
     },
     "metadata": {
      "needs_background": "light"
     },
     "output_type": "display_data"
    }
   ],
   "source": [
    "plt.figure(figsize=(6,6))\n",
    "a, b = 3, 3\n",
    "for i in range(a*b):  \n",
    "    plt.subplot(b, a, i+1)\n",
    "    plt.imshow(X_train[i], cmap='gray')\n",
    "plt.tight_layout()\n",
    "plt.show()"
   ]
  },
  {
   "cell_type": "markdown",
   "metadata": {
    "colab_type": "text",
    "id": "mt2hv7PSBmU4"
   },
   "source": [
    "Target values are numbers."
   ]
  },
  {
   "cell_type": "code",
   "execution_count": 12,
   "metadata": {
    "colab": {
     "base_uri": "https://localhost:8080/",
     "height": 34
    },
    "colab_type": "code",
    "id": "3ZHMwxyHBmU5",
    "outputId": "04e1fff8-5b7a-48c3-9bbe-855d5bf12011"
   },
   "outputs": [
    {
     "data": {
      "text/plain": [
       "array([3, 3, 3, 8, 3, 3, 8, 8, 3], dtype=uint8)"
      ]
     },
     "execution_count": 12,
     "metadata": {},
     "output_type": "execute_result"
    }
   ],
   "source": [
    "y_train[:9]"
   ]
  },
  {
   "cell_type": "markdown",
   "metadata": {
    "colab_type": "text",
    "id": "qynX76dNt1NU"
   },
   "source": [
    "## Task 1 (1 point)\n",
    "Now our data is 3-dimensional of shape (number of images, n_pixels, n_pixels). To work with PCA and SVM we need to flatten the images by turning each of them into an array of shape (n_pixels x n_pixels, )."
   ]
  },
  {
   "cell_type": "code",
   "execution_count": 13,
   "metadata": {
    "colab": {},
    "colab_type": "code",
    "id": "WD9ThdCMBmVG"
   },
   "outputs": [],
   "source": [
    "def flatten_image(X):\n",
    "    d1, d2= X.shape\n",
    "    X_flatten = X.reshape(d1*d2)\n",
    "    \n",
    "    return X_flatten"
   ]
  },
  {
   "cell_type": "code",
   "execution_count": 14,
   "metadata": {
    "colab": {},
    "colab_type": "code",
    "id": "AWAJJfmDBmVK"
   },
   "outputs": [
    {
     "data": {
      "text/plain": [
       "((1984, 784), (1984, 784))"
      ]
     },
     "execution_count": 14,
     "metadata": {},
     "output_type": "execute_result"
    }
   ],
   "source": [
    "X_train_flat = np.array([flatten_image(img) for img in X_train]) # np.array([flatten_image(img) for img in X_train])\n",
    "X_test_flat = np.array([flatten_image(img) for img in X_test]) # your code here\n",
    "X_test_flat.shape, X_test_flat.shape"
   ]
  },
  {
   "cell_type": "markdown",
   "metadata": {
    "colab_type": "text",
    "id": "3BIAKuWGukeC"
   },
   "source": [
    "PCA works best when the data is scaled (think, why?), so let's scale our data. We will use [StandartScaler](https://scikit-learn.org/stable/modules/generated/sklearn.preprocessing.StandardScaler.html) for it. Note, that scaling replaces a collection of vectors x by the collection of the vectors $x' = (x-M)/D$, where $M$ is the mean vector of\n",
    "the sample, $D$ is the vector of standard deviations of all components of the vectors, and the division is component-wise. So, the scaled collection has the same size as the original one, and each column has 0 mean and unit standard deviation.\n"
   ]
  },
  {
   "cell_type": "code",
   "execution_count": 15,
   "metadata": {
    "colab": {},
    "colab_type": "code",
    "id": "AK1W8FecV9KZ"
   },
   "outputs": [],
   "source": [
    "scaler = StandardScaler()\n",
    "X_train_flat = scaler.fit_transform(X_train_flat)\n",
    "X_test_flat = scaler.transform(X_test_flat)"
   ]
  },
  {
   "cell_type": "markdown",
   "metadata": {},
   "source": [
    "## Question 1"
   ]
  },
  {
   "cell_type": "markdown",
   "metadata": {
    "colab_type": "text",
    "id": "aW4UQRSmlCg5"
   },
   "source": [
    "Please write your answer on the impact of scaling below. Why does scaling help PCA? If your idea need some computer experiments for confirmation (say, training and accuracy calculations  with non-scaled data), please provide the code here as well."
   ]
  },
  {
   "cell_type": "markdown",
   "metadata": {
    "colab_type": "text",
    "id": "EzU4FS2X76e9"
   },
   "source": [
    "***Your answer here.***"
   ]
  },
  {
   "cell_type": "code",
   "execution_count": 16,
   "metadata": {
    "colab": {},
    "colab_type": "code",
    "id": "vlCJN_Pqlb4C"
   },
   "outputs": [
    {
     "name": "stdout",
     "output_type": "stream",
     "text": [
      "Result for original data 0.9480846774193549\n"
     ]
    },
    {
     "name": "stderr",
     "output_type": "stream",
     "text": [
      "/home/tair/anaconda3/envs/data_science/lib/python3.8/site-packages/sklearn/svm/_base.py:976: ConvergenceWarning: Liblinear failed to converge, increase the number of iterations.\n",
      "  warnings.warn(\"Liblinear failed to converge, increase \"\n"
     ]
    }
   ],
   "source": [
    "#your code here\n",
    "# svm_linear = LinearSVC()\n",
    "\n",
    "# svm_linear.fit(X_train_flat, y_train)\n",
    "# predictions = svm_linear.predict(X_test_flat)\n",
    "# print('Result for scaled data', accuracy_score(y_true=y_test, y_pred=predictions))\n",
    "\n",
    "\n",
    "X_train_non_scaled = np.array([flatten_image(img) for img in X_train]) # np.array([flatten_image(img) for img in X_train])\n",
    "X_test_non_scaled = np.array([flatten_image(img) for img in X_test]) \n",
    "\n",
    "svm_linear = LinearSVC()\n",
    "svm_linear.fit(X_train_non_scaled, y_train)\n",
    "predictions = svm_linear.predict(X_test_non_scaled)\n",
    "accuracy_score(y_true=y_test, y_pred=predictions)\n",
    "print('Result for original data', accuracy_score(y_true=y_test, y_pred=predictions))\n"
   ]
  },
  {
   "cell_type": "markdown",
   "metadata": {
    "colab_type": "text",
    "id": "MPYv0JqzQRKA"
   },
   "source": [
    "Now, we call PCA and reduce the number of components for each vector. "
   ]
  },
  {
   "cell_type": "code",
   "execution_count": 17,
   "metadata": {
    "colab": {},
    "colab_type": "code",
    "id": "H6s30_saBmVO"
   },
   "outputs": [],
   "source": [
    "pca = PCA(n_components=128, random_state=42)\n",
    "X_train_flat = pca.fit_transform(X_train_flat)"
   ]
  },
  {
   "cell_type": "code",
   "execution_count": 18,
   "metadata": {
    "colab": {},
    "colab_type": "code",
    "id": "bKRDnygcBmVS"
   },
   "outputs": [],
   "source": [
    "X_test_flat = pca.transform(X_test_flat)"
   ]
  },
  {
   "cell_type": "code",
   "execution_count": 19,
   "metadata": {
    "colab": {
     "base_uri": "https://localhost:8080/",
     "height": 34
    },
    "colab_type": "code",
    "id": "MIkIzz4ACjP5",
    "outputId": "dd304091-8823-41a9-e39a-744e9dedaeb0"
   },
   "outputs": [
    {
     "data": {
      "text/plain": [
       "((1984, 128), (1984, 128))"
      ]
     },
     "execution_count": 19,
     "metadata": {},
     "output_type": "execute_result"
    }
   ],
   "source": [
    "X_test_flat.shape, X_test_flat.shape"
   ]
  },
  {
   "cell_type": "markdown",
   "metadata": {},
   "source": [
    "## Question 2"
   ]
  },
  {
   "cell_type": "markdown",
   "metadata": {
    "colab_type": "text",
    "id": "s-g0gIUdV6a4"
   },
   "source": [
    "What is the ratio of the memory used for the data `compressed' by PCA and the one used for the original data?"
   ]
  },
  {
   "cell_type": "markdown",
   "metadata": {
    "colab_type": "text",
    "id": "EzU4FS2X76e9"
   },
   "source": [
    "***Your answer here.***"
   ]
  },
  {
   "cell_type": "markdown",
   "metadata": {
    "colab_type": "text",
    "id": "tExdDvxVQb-8"
   },
   "source": [
    "Now, we use SVM with linear kernel to separate the two classes."
   ]
  },
  {
   "cell_type": "code",
   "execution_count": 20,
   "metadata": {
    "colab": {},
    "colab_type": "code",
    "id": "msj7fbHnBmVW"
   },
   "outputs": [
    {
     "name": "stdout",
     "output_type": "stream",
     "text": [
      "CPU times: user 7.09 s, sys: 89.6 ms, total: 7.18 s\n",
      "Wall time: 8 s\n"
     ]
    },
    {
     "name": "stderr",
     "output_type": "stream",
     "text": [
      "/home/tair/anaconda3/envs/data_science/lib/python3.8/site-packages/sklearn/svm/_base.py:976: ConvergenceWarning: Liblinear failed to converge, increase the number of iterations.\n",
      "  warnings.warn(\"Liblinear failed to converge, increase \"\n"
     ]
    },
    {
     "data": {
      "text/plain": [
       "LinearSVC(random_state=42)"
      ]
     },
     "execution_count": 20,
     "metadata": {},
     "output_type": "execute_result"
    }
   ],
   "source": [
    "%%time\n",
    "\n",
    "# What is the ratio of the memory used for the data `compressed' by PCA and the one used for the original data?\n",
    "clf = LinearSVC(random_state=42)\n",
    "clf.fit(X_train_non_scaled, y_train) \n",
    " "
   ]
  },
  {
   "cell_type": "code",
   "execution_count": 21,
   "metadata": {},
   "outputs": [
    {
     "name": "stdout",
     "output_type": "stream",
     "text": [
      "CPU times: user 8.33 s, sys: 12.4 ms, total: 8.34 s\n",
      "Wall time: 8.47 s\n"
     ]
    },
    {
     "name": "stderr",
     "output_type": "stream",
     "text": [
      "/home/tair/anaconda3/envs/data_science/lib/python3.8/site-packages/sklearn/svm/_base.py:976: ConvergenceWarning: Liblinear failed to converge, increase the number of iterations.\n",
      "  warnings.warn(\"Liblinear failed to converge, increase \"\n"
     ]
    },
    {
     "data": {
      "text/plain": [
       "LinearSVC(random_state=42)"
      ]
     },
     "execution_count": 21,
     "metadata": {},
     "output_type": "execute_result"
    }
   ],
   "source": [
    "%%time\n",
    "clf = LinearSVC(random_state=42)\n",
    "clf.fit(X_train_flat, y_train)\n"
   ]
  },
  {
   "cell_type": "markdown",
   "metadata": {
    "colab_type": "text",
    "id": "UiQicIFIQMf3"
   },
   "source": [
    "Now, let us make the predictions and calculate the accuracy, that is, the ratio of the true predictions to the test sample size.  Use [accuracy score](https://scikit-learn.org/stable/modules/generated/sklearn.metrics.accuracy_score.html#sklearn.metrics.accuracy_score) as the quality metric here.\n",
    "\n",
    "$$accuracy(y\\_true, y\\_pred) = \\frac{1}{n}\\sum_{i=1}^n [y\\_true_i=y\\_pred_i],$$ where $[a=b]=1$, if $a=b$, and $0$ otherwise."
   ]
  },
  {
   "cell_type": "code",
   "execution_count": 22,
   "metadata": {
    "colab": {},
    "colab_type": "code",
    "id": "IWC3hQAMCcPe"
   },
   "outputs": [
    {
     "name": "stdout",
     "output_type": "stream",
     "text": [
      "Test accuracy:  0.9667338709677419\n"
     ]
    }
   ],
   "source": [
    "y_pred = clf.predict(X_test_flat) # your code here\n",
    "acc = accuracy_score(y_test, y_pred) # your code here\n",
    "print(\"Test accuracy: \", acc)"
   ]
  },
  {
   "cell_type": "code",
   "execution_count": 23,
   "metadata": {
    "colab": {},
    "colab_type": "code",
    "id": "Nsui7PT-a8Qs"
   },
   "outputs": [],
   "source": [
    "# ## GRADED PART, DO NOT CHANGE!\n",
    "# grader.set_answer(\"EGrPV\", acc)"
   ]
  },
  {
   "cell_type": "code",
   "execution_count": 24,
   "metadata": {},
   "outputs": [],
   "source": [
    "# # you can make submission with answers so far to check yourself at this stage\n",
    "# grader.submit(COURSERA_EMAIL, COURSERA_TOKEN)"
   ]
  },
  {
   "cell_type": "markdown",
   "metadata": {
    "colab_type": "text",
    "id": "s4fOnPmPBmWr"
   },
   "source": [
    "## Try it from your own input\n",
    "Try to make your own dataset. You can either make a photo image of an ink-written digit or draw a digit using a graphical editor of your computer or smartphone. Note that the input picture has to be a white number on a black background, like the numbers in the MNIST dataset. It can be either in png or jpeg format. Replace the sample striwith your file name. "
   ]
  },
  {
   "cell_type": "code",
   "execution_count": 25,
   "metadata": {
    "colab": {},
    "colab_type": "code",
    "id": "GZSU-t3QBmWs"
   },
   "outputs": [],
   "source": [
    "from scipy import misc\n",
    "from PIL import Image"
   ]
  },
  {
   "cell_type": "code",
   "execution_count": 26,
   "metadata": {
    "colab": {},
    "colab_type": "code",
    "id": "uqDp92KzBmWv"
   },
   "outputs": [
    {
     "data": {
      "text/plain": [
       "(28, 28)"
      ]
     },
     "execution_count": 26,
     "metadata": {},
     "output_type": "execute_result"
    }
   ],
   "source": [
    "image = Image.open('3.jpeg').convert('L')\n",
    "new_image = image.resize((28, 28))\n",
    "custom = np.array(new_image)\n",
    "custom.shape"
   ]
  },
  {
   "cell_type": "code",
   "execution_count": 27,
   "metadata": {
    "colab": {
     "base_uri": "https://localhost:8080/",
     "height": 265
    },
    "colab_type": "code",
    "id": "pYBKXyglBmWz",
    "outputId": "94db2145-a426-499a-a76f-35dbce09686a"
   },
   "outputs": [
    {
     "data": {
      "image/png": "[encoded data removed]",
      "text/plain": [
       "<Figure size 432x288 with 1 Axes>"
      ]
     },
     "metadata": {
      "needs_background": "light"
     },
     "output_type": "display_data"
    }
   ],
   "source": [
    "plt.imshow(custom, cmap='gray')\n",
    "plt.show()"
   ]
  },
  {
   "cell_type": "markdown",
   "metadata": {
    "colab_type": "text",
    "id": "qyBWzpsCSJjj"
   },
   "source": [
    "Re-shape your image and make a prediction. "
   ]
  },
  {
   "cell_type": "code",
   "execution_count": 28,
   "metadata": {
    "colab": {
     "base_uri": "https://localhost:8080/",
     "height": 34
    },
    "colab_type": "code",
    "id": "bKy0FPyJ4dg2",
    "outputId": "23eb20a6-65d7-49f8-c06c-198795ffcba1"
   },
   "outputs": [
    {
     "data": {
      "text/plain": [
       "(1, 128)"
      ]
     },
     "execution_count": 28,
     "metadata": {},
     "output_type": "execute_result"
    }
   ],
   "source": [
    "custom = flatten_image(custom).reshape(1, -1)\n",
    "custom = scaler.transform(custom)\n",
    "custom.shape\n",
    "custom = pca.transform(custom)\n",
    "custom.shape"
   ]
  },
  {
   "cell_type": "code",
   "execution_count": 29,
   "metadata": {
    "colab": {
     "base_uri": "https://localhost:8080/",
     "height": 34
    },
    "colab_type": "code",
    "id": "80S853_6BmW3",
    "outputId": "587384f5-2d97-4cae-eafe-cec792aed4ac"
   },
   "outputs": [
    {
     "data": {
      "text/plain": [
       "array([3], dtype=uint8)"
      ]
     },
     "execution_count": 29,
     "metadata": {},
     "output_type": "execute_result"
    }
   ],
   "source": [
    "clf.predict(custom)"
   ]
  },
  {
   "cell_type": "markdown",
   "metadata": {},
   "source": [
    "## Question 3"
   ]
  },
  {
   "cell_type": "markdown",
   "metadata": {
    "colab_type": "text",
    "id": "PTwHX91JSUL3"
   },
   "source": [
    "Repeat the above digit recognition procedure with other 5 to 10 hand-written images. Do your experiments confirm the above accuracy estimate? How do you think, why they confirm (or not confirm) it?"
   ]
  },
  {
   "cell_type": "markdown",
   "metadata": {
    "colab_type": "text",
    "id": "Bn8dlIrY7NWe"
   },
   "source": [
    "***Your answer here.***"
   ]
  },
  {
   "cell_type": "code",
   "execution_count": 30,
   "metadata": {},
   "outputs": [
    {
     "data": {
      "image/png": "[encoded data removed]",
      "text/plain": [
       "<Figure size 432x288 with 1 Axes>"
      ]
     },
     "metadata": {
      "needs_background": "light"
     },
     "output_type": "display_data"
    },
    {
     "name": "stdout",
     "output_type": "stream",
     "text": [
      "[3]\n"
     ]
    },
    {
     "data": {
      "image/png": "[encoded data removed]",
      "text/plain": [
       "<Figure size 432x288 with 1 Axes>"
      ]
     },
     "metadata": {
      "needs_background": "light"
     },
     "output_type": "display_data"
    },
    {
     "name": "stdout",
     "output_type": "stream",
     "text": [
      "[3]\n"
     ]
    },
    {
     "data": {
      "image/png": "[encoded data removed]",
      "text/plain": [
       "<Figure size 432x288 with 1 Axes>"
      ]
     },
     "metadata": {
      "needs_background": "light"
     },
     "output_type": "display_data"
    },
    {
     "name": "stdout",
     "output_type": "stream",
     "text": [
      "[3]\n"
     ]
    },
    {
     "data": {
      "image/png": "[encoded data removed]",
      "text/plain": [
       "<Figure size 432x288 with 1 Axes>"
      ]
     },
     "metadata": {
      "needs_background": "light"
     },
     "output_type": "display_data"
    },
    {
     "name": "stdout",
     "output_type": "stream",
     "text": [
      "[3]\n",
      "Accuracy on 5-8 digits is 0.0\n"
     ]
    }
   ],
   "source": [
    "ans = 0\n",
    "for n in range(5,9):\n",
    "    image = Image.open(f'{n}.jpeg').convert('L')\n",
    "    new_image = image.resize((28, 28))\n",
    "    custom = np.array(new_image)\n",
    "    plt.imshow(custom, cmap='gray')\n",
    "    plt.show()\n",
    "    custom = flatten_image(custom).reshape(1, -1)\n",
    "    custom = scaler.transform(custom)\n",
    "    custom.shape\n",
    "    custom = pca.transform(custom)\n",
    "    print(clf.predict(custom))\n",
    "    if int(clf.predict(custom)) == n:\n",
    "        ans += 1\n",
    "print('Accuracy on 5-8 digits is', ans/4)"
   ]
  },
  {
   "cell_type": "markdown",
   "metadata": {
    "colab_type": "text",
    "id": "OTa1546Jx2J5"
   },
   "source": [
    "## Task 2\n",
    "Now let's try another approach explained [here](https://intranet.math.vt.edu/ugresearch/Lassiter_2012_2013.pdf) in Section 3. For each digit, we create a new matrix $A$ whose columns are flattened images of this digit. The first several (say, 10) columns of the matrix $U$ from SVD decomposition of $A$ represent a collection of \"typical\" images of this digit. Given an unrecognized flatten image, among average typical flattened images we find the closets one. Its target value is considered as a prediction for the target of the unrecognized image."
   ]
  },
  {
   "cell_type": "markdown",
   "metadata": {
    "colab_type": "text",
    "id": "JTvWQCV8K9qm"
   },
   "source": [
    "## SVD refesher\n",
    "As you may recall from the lectures, SVD of a matrix $A$ is a decomposition:\n",
    "$A = U \\Sigma V^T,$ where $U$ and $V$ are orthogonal matrices. In this method we will be utilizing some properties of SVD.\n",
    "Please note that due to large shapes of matrices the operations might take a while."
   ]
  },
  {
   "cell_type": "code",
   "execution_count": 31,
   "metadata": {},
   "outputs": [
    {
     "data": {
      "text/plain": [
       "(60000, 28, 28)"
      ]
     },
     "execution_count": 31,
     "metadata": {},
     "output_type": "execute_result"
    }
   ],
   "source": [
    "X_train_total[:,:10].shape\n",
    "y_train\n",
    "X_train_total.shape"
   ]
  },
  {
   "cell_type": "code",
   "execution_count": 32,
   "metadata": {
    "colab": {},
    "colab_type": "code",
    "id": "DA9S5BxlimJy"
   },
   "outputs": [],
   "source": [
    "def getSingularVectorsLeft(matrix, number=10): # let's take first 10 numbers\n",
    "    u, s, vh = np.linalg.svd(matrix, full_matrices=False)\n",
    "#     print('u', u.shape)\n",
    "#     print(u[:10])\n",
    "    return u[:,:10]\n",
    "    # return first _number_ columns of U from SVD of _matrix_"
   ]
  },
  {
   "cell_type": "code",
   "execution_count": 33,
   "metadata": {
    "colab": {},
    "colab_type": "code",
    "id": "TXlw7pLMYYNB"
   },
   "outputs": [],
   "source": [
    "def getSingularImage(X_train, y_train, number):\n",
    "    A = []\n",
    "    # find images whose target is _number_\n",
    "    select_images = X_train[np.array(np.where(y_train==number)[0])]\n",
    "    # iteratively append new column to form matrix A\n",
    "    for image in select_images:\n",
    "        image = flatten_image(image).reshape(1, -1)\n",
    "        A.append(image[0])\n",
    "    A = np.array(A)\n",
    "    A = A.T\n",
    "#     plt.imshow(A[:,3].reshape(28,28))\n",
    "#     print(A.shape)\n",
    "    left_basis = getSingularVectorsLeft(A, 10)\n",
    "    # left_basis = # get left singular vectors\n",
    "\n",
    "    return left_basis"
   ]
  },
  {
   "cell_type": "code",
   "execution_count": 34,
   "metadata": {},
   "outputs": [],
   "source": [
    "# A = []\n",
    "# select_images = X_train_total[np.array(np.where(y_train_total==2)[0])]\n",
    "\n",
    "# for image in select_images[:10]:\n",
    "#     image = flatten_image(image).reshape(1, -1)\n",
    "#     A.append(image[0])\n",
    "# A = np.array(A)\n",
    "# A = A.T\n",
    "# A.shape\n",
    "# plt.imshow(A[:,3].reshape(28,28))"
   ]
  },
  {
   "cell_type": "markdown",
   "metadata": {
    "colab_type": "text",
    "id": "xUaaUCTNx9ea"
   },
   "source": [
    "Try it first on \"0\"."
   ]
  },
  {
   "cell_type": "code",
   "execution_count": 35,
   "metadata": {
    "colab": {},
    "colab_type": "code",
    "id": "CPx60DlKaQ8S"
   },
   "outputs": [],
   "source": [
    "left_basis = getSingularImage(X_train_total, y_train_total, 0)\n",
    "\n",
    "# assert left_basis.shape, (784, 10)\n"
   ]
  },
  {
   "cell_type": "code",
   "execution_count": 36,
   "metadata": {},
   "outputs": [
    {
     "name": "stdout",
     "output_type": "stream",
     "text": [
      "(784, 10)\n"
     ]
    },
    {
     "data": {
      "text/plain": [
       "<matplotlib.image.AxesImage at 0x7f4f3a1c0670>"
      ]
     },
     "execution_count": 36,
     "metadata": {},
     "output_type": "execute_result"
    },
    {
     "data": {
      "image/png": "[encoded data removed]",
      "text/plain": [
       "<Figure size 432x288 with 1 Axes>"
      ]
     },
     "metadata": {
      "needs_background": "light"
     },
     "output_type": "display_data"
    }
   ],
   "source": [
    "print(left_basis.shape)\n",
    "plt.imshow(left_basis[:,0].reshape(28,28))"
   ]
  },
  {
   "cell_type": "markdown",
   "metadata": {
    "colab_type": "text",
    "id": "qeAC9vo8xnMK"
   },
   "source": [
    "### Task 2.1 (1 point)\n",
    "Plot first 9 singular images of the digit 0 taking columns of matrix U and reshaping them back into images 28x28. Use `numpy.reshape`."
   ]
  },
  {
   "cell_type": "code",
   "execution_count": 37,
   "metadata": {
    "colab": {
     "base_uri": "https://localhost:8080/",
     "height": 441
    },
    "colab_type": "code",
    "id": "VyJGHMhUtBpT",
    "outputId": "44ea8371-5be7-495f-c1c1-b7fa95395361"
   },
   "outputs": [
    {
     "data": {
      "image/png": "[encoded data removed]",
      "text/plain": [
       "<Figure size 432x432 with 9 Axes>"
      ]
     },
     "metadata": {
      "needs_background": "light"
     },
     "output_type": "display_data"
    }
   ],
   "source": [
    "#singular images\n",
    "plt.figure(figsize=(6,6))\n",
    "a, b = 3, 3\n",
    "for i in range(a*b):  \n",
    "    plt.subplot(b, a, i+1)\n",
    "    img = getSingularImage(X_train_total, y_train_total, 0)[:,i].reshape(28,28)# ith element of left basis reshaped back to 28x28\n",
    "    plt.imshow(img, cmap='gray')\n",
    "\n",
    "plt.tight_layout()\n",
    "plt.show()"
   ]
  },
  {
   "cell_type": "code",
   "execution_count": 38,
   "metadata": {
    "colab": {},
    "colab_type": "code",
    "id": "IRZWJewZrcit"
   },
   "outputs": [],
   "source": [
    "# ## GRADED PART, DO NOT CHANGE!\n",
    "# #9th image will be graded:\n",
    "# grader.set_answer(\"LtYil\", img[:, 5:7].flatten())"
   ]
  },
  {
   "cell_type": "code",
   "execution_count": 39,
   "metadata": {},
   "outputs": [],
   "source": [
    "# # you can make submission with answers so far to check yourself at this stage\n",
    "# grader.submit(COURSERA_EMAIL, COURSERA_TOKEN)"
   ]
  },
  {
   "cell_type": "markdown",
   "metadata": {},
   "source": [
    "## Question 4"
   ]
  },
  {
   "cell_type": "markdown",
   "metadata": {
    "colab_type": "text",
    "id": "24b4QGOI7Vmh"
   },
   "source": [
    "Reflect on properties of the columns of $U_k$. What properties do you think are contained in each of them? Draw more singular images to help you make conclusions."
   ]
  },
  {
   "cell_type": "markdown",
   "metadata": {
    "colab_type": "text",
    "id": "Gst9OJUY7nMa"
   },
   "source": [
    "***Your answer here.***"
   ]
  },
  {
   "cell_type": "markdown",
   "metadata": {},
   "source": [
    "# 𝑈𝑘 is Unitary matrix having left singular vectors as columns."
   ]
  },
  {
   "cell_type": "markdown",
   "metadata": {
    "colab_type": "text",
    "id": "cDFZgAv4yLLO"
   },
   "source": [
    "Now let's move on and obtain singular images for all numbers. The matrices $U_k$ from  [the article](https://intranet.math.vt.edu/ugresearch/Lassiter_2012_2013.pdf) are represented as `number_basis_matrices[k]`.\n",
    "This might take a while to finish, feel free to add debug print in your function to know the progress."
   ]
  },
  {
   "cell_type": "code",
   "execution_count": 40,
   "metadata": {
    "colab": {},
    "colab_type": "code",
    "id": "np3OMUg9hX4L"
   },
   "outputs": [],
   "source": [
    "number_basis_matrices = np.array([getSingularImage(X_train_total, y_train_total, i) for i in range(0,10)]) # use getSingularImage funciton to get matrices for all numbers"
   ]
  },
  {
   "cell_type": "code",
   "execution_count": 41,
   "metadata": {},
   "outputs": [
    {
     "data": {
      "text/plain": [
       "(784, 10)"
      ]
     },
     "execution_count": 41,
     "metadata": {},
     "output_type": "execute_result"
    }
   ],
   "source": [
    "number_basis_matrices[0].shape"
   ]
  },
  {
   "cell_type": "markdown",
   "metadata": {
    "colab_type": "text",
    "id": "3lSYWDSzyZjQ"
   },
   "source": [
    "### Task 2.2 (1 point)\n",
    "Plot the first singular image of each digit, similarly to the previous task."
   ]
  },
  {
   "cell_type": "code",
   "execution_count": 42,
   "metadata": {
    "colab": {
     "base_uri": "https://localhost:8080/",
     "height": 441
    },
    "colab_type": "code",
    "id": "2-TS33OpwHVN",
    "outputId": "8c59364c-adb5-459c-ea73-b494d0506b1a"
   },
   "outputs": [
    {
     "data": {
      "image/png": "[encoded data removed]",
      "text/plain": [
       "<Figure size 432x432 with 10 Axes>"
      ]
     },
     "metadata": {
      "needs_background": "light"
     },
     "output_type": "display_data"
    }
   ],
   "source": [
    "plt.figure(figsize=(6,6))\n",
    "a, b = 3, 4\n",
    "for i in range(10):  \n",
    "    plt.subplot(b, a, i+1)\n",
    "    img = number_basis_matrices[i][:,0].reshape(28,28) # first column of U_k in number_basis_matrices[i] reshaped into 28x28 image\n",
    "    plt.imshow(img, cmap='gray')\n",
    "\n",
    "plt.tight_layout()\n",
    "plt.show()"
   ]
  },
  {
   "cell_type": "code",
   "execution_count": 43,
   "metadata": {
    "colab": {},
    "colab_type": "code",
    "id": "J6HG1hjprQVg"
   },
   "outputs": [],
   "source": [
    "# ## GRADED PART, DO NOT CHANGE!\n",
    "# #last image (of digit 9) will be graded:\n",
    "# grader.set_answer(\"otUqA\", img[:, 5:7].flatten())"
   ]
  },
  {
   "cell_type": "code",
   "execution_count": 44,
   "metadata": {},
   "outputs": [],
   "source": [
    "# # you can make submission with answers so far to check yourself at this stage\n",
    "# grader.submit(COURSERA_EMAIL, COURSERA_TOKEN)"
   ]
  },
  {
   "cell_type": "code",
   "execution_count": 45,
   "metadata": {
    "colab": {
     "base_uri": "https://localhost:8080/",
     "height": 34
    },
    "colab_type": "code",
    "id": "cKlHDULozHr1",
    "outputId": "29b6691c-a69b-4843-f9d9-f4f89d0bf80b"
   },
   "outputs": [
    {
     "data": {
      "text/plain": [
       "784"
      ]
     },
     "execution_count": 45,
     "metadata": {},
     "output_type": "execute_result"
    }
   ],
   "source": [
    "dim = number_basis_matrices[0].shape[0]\n",
    "dim"
   ]
  },
  {
   "cell_type": "markdown",
   "metadata": {
    "colab_type": "text",
    "id": "T5XFjCNS8wKt"
   },
   "source": [
    "### Task 2.3 (1.5 points)"
   ]
  },
  {
   "cell_type": "markdown",
   "metadata": {
    "colab_type": "text",
    "id": "g4u-9qERyjR-"
   },
   "source": [
    "Here we calculate the new projection matrix for each $U_k$ to apply later in testing:\n",
    "$pr = (I - U_k \\cdot U_{k}^{T})$. Use `numpy.matmul` for matrix multiplication and `numpy.identity` to create an identity matrix. Please note that this operation might also take some time to finish."
   ]
  },
  {
   "cell_type": "code",
   "execution_count": 46,
   "metadata": {
    "colab": {},
    "colab_type": "code",
    "id": "_QP7drrelSUz"
   },
   "outputs": [
    {
     "name": "stdout",
     "output_type": "stream",
     "text": [
      "10\n"
     ]
    },
    {
     "data": {
      "text/plain": [
       "(784, 784)"
      ]
     },
     "execution_count": 46,
     "metadata": {},
     "output_type": "execute_result"
    }
   ],
   "source": [
    "# create an array of pr for each number\n",
    "numeric_values = np.array([np.identity(dim) - np.matmul(number_basis_matrices[i], number_basis_matrices[i].T) for i in range(0,10)])     \n",
    "print(len(numeric_values))\n",
    "numeric_values[0].shape"
   ]
  },
  {
   "cell_type": "code",
   "execution_count": null,
   "metadata": {},
   "outputs": [],
   "source": []
  },
  {
   "cell_type": "code",
   "execution_count": 47,
   "metadata": {
    "colab": {},
    "colab_type": "code",
    "id": "fvI1Wm3hvVcS"
   },
   "outputs": [],
   "source": [
    "# ## GRADED PART, DO NOT CHANGE!\n",
    "# k = np.array([n[3:5, 3:13] for n in numeric_values])\n",
    "# grader.set_answer(\"o4nIb\", k.flatten())"
   ]
  },
  {
   "cell_type": "code",
   "execution_count": 48,
   "metadata": {},
   "outputs": [],
   "source": [
    "# # you can make submission with answers so far to check yourself at this stage\n",
    "# grader.submit(COURSERA_EMAIL, COURSERA_TOKEN)"
   ]
  },
  {
   "cell_type": "markdown",
   "metadata": {
    "colab_type": "text",
    "id": "BB_nJGgMzTns"
   },
   "source": [
    "### Task 2.4 (1.5 points)\n",
    "Implement function utilizing `numeric_values` matrices to predict labels for unknown images. Use `numpy.norm` and enumerate to iterate over numeric values."
   ]
  },
  {
   "cell_type": "code",
   "execution_count": 49,
   "metadata": {
    "colab": {},
    "colab_type": "code",
    "id": "tSwJ-iJtlHav"
   },
   "outputs": [],
   "source": [
    "def find_closest(test_value, numeric_values):\n",
    "    if test_value.shape[0] == 28:\n",
    "#         print(test_value.shape)\n",
    "        test_value = flatten_image(test_value).reshape(1, -1)\n",
    "    values = []\n",
    "    for U in numeric_values:\n",
    "        values.append(np.linalg.norm(np.dot(U,test_value)))\n",
    "    return values.index(min(values))\n",
    "#     return index"
   ]
  },
  {
   "cell_type": "code",
   "execution_count": 50,
   "metadata": {
    "colab": {},
    "colab_type": "code",
    "id": "-G_FrYu5o87N"
   },
   "outputs": [],
   "source": [
    "X_test_SVD = np.array([flatten_image(img) for img in X_test_total]) \n",
    "y_pred = [find_closest(value, numeric_values) for value in X_test_SVD] # find array of predictions for test values and calculate accuracy in the cell below\n"
   ]
  },
  {
   "cell_type": "code",
   "execution_count": 51,
   "metadata": {},
   "outputs": [],
   "source": [
    "# y_pred[220:230]"
   ]
  },
  {
   "cell_type": "code",
   "execution_count": 52,
   "metadata": {
    "colab": {},
    "colab_type": "code",
    "id": "MO5pFzGcpoIC"
   },
   "outputs": [
    {
     "data": {
      "text/plain": [
       "0.9485"
      ]
     },
     "execution_count": 52,
     "metadata": {},
     "output_type": "execute_result"
    }
   ],
   "source": [
    "acc = accuracy_score(y_test_total, y_pred)\n",
    "acc"
   ]
  },
  {
   "cell_type": "code",
   "execution_count": 53,
   "metadata": {
    "colab": {},
    "colab_type": "code",
    "id": "33eDyhZylMFQ"
   },
   "outputs": [],
   "source": [
    "# ## GRADED PART, DO NOT CHANGE!\n",
    "# grader.set_answer(\"rZkTW\", acc)"
   ]
  },
  {
   "cell_type": "code",
   "execution_count": 54,
   "metadata": {},
   "outputs": [],
   "source": [
    "# # you can make submission with answers so far to check yourself at this stage\n",
    "# grader.submit(COURSERA_EMAIL, COURSERA_TOKEN)"
   ]
  },
  {
   "cell_type": "markdown",
   "metadata": {
    "colab_type": "text",
    "id": "RJ_rqkffzvA7"
   },
   "source": [
    "## Additional task (2 points)\n",
    "In the first task we trained Linear SVM to separate 3s and 8s. Here you can implement multiclass classification for _all_ numbers in `MNIST`. Use the same function LinearSVC for “one-vs-the-rest” multi-class strategy, see [the documentation](https://scikit-learn.org/stable/modules/svm.html#classification).  Follow the same steps from task 1: scaling, feature selection, training and testing. Is the accuracy of this method greater then the one calculated above?"
   ]
  },
  {
   "cell_type": "markdown",
   "metadata": {
    "colab_type": "text",
    "id": "-4WYoVtR9kWG"
   },
   "source": [
    "**Note:** Use `random_state=42` for `PCA` and `LinearSVC`. Training `LinearSVC` on all the data might take a while, that's normal."
   ]
  },
  {
   "cell_type": "code",
   "execution_count": 55,
   "metadata": {
    "colab": {},
    "colab_type": "code",
    "id": "Whp8oDkz--OL"
   },
   "outputs": [],
   "source": [
    "# flatten\n",
    "# Scandart Scaler\n",
    "# PCA\n",
    "# LinearSVC"
   ]
  },
  {
   "cell_type": "code",
   "execution_count": 56,
   "metadata": {
    "colab": {
     "base_uri": "https://localhost:8080/",
     "height": 69
    },
    "colab_type": "code",
    "id": "fg9JsZ70BmUa",
    "outputId": "6a3dbfc7-41b4-4d78-afc9-3ceaf3f10500"
   },
   "outputs": [],
   "source": [
    "data = np.load('mnist.npz')\n",
    "X_test_total, X_train_total, y_train_total, y_test_total = data['x_test'], data['x_train'], data['y_train'], data['y_test']"
   ]
  },
  {
   "cell_type": "code",
   "execution_count": 57,
   "metadata": {
    "colab": {
     "base_uri": "https://localhost:8080/",
     "height": 441
    },
    "colab_type": "code",
    "id": "lWsCw2hQBmU0",
    "outputId": "6c9968ce-e647-4fc4-ee06-4ab055cc98e9"
   },
   "outputs": [
    {
     "data": {
      "image/png": "[encoded data removed]",
      "text/plain": [
       "<Figure size 432x432 with 9 Axes>"
      ]
     },
     "metadata": {
      "needs_background": "light"
     },
     "output_type": "display_data"
    }
   ],
   "source": [
    "plt.figure(figsize=(6,6))\n",
    "a, b = 3, 3\n",
    "for i in range(a*b):  \n",
    "    plt.subplot(b, a, i+1)\n",
    "    plt.imshow(X_train_total[i], cmap='gray')\n",
    "plt.tight_layout()\n",
    "plt.show()"
   ]
  },
  {
   "cell_type": "code",
   "execution_count": 58,
   "metadata": {
    "colab": {
     "base_uri": "https://localhost:8080/",
     "height": 34
    },
    "colab_type": "code",
    "id": "3ZHMwxyHBmU5",
    "outputId": "04e1fff8-5b7a-48c3-9bbe-855d5bf12011"
   },
   "outputs": [
    {
     "data": {
      "text/plain": [
       "array([5, 0, 4, 1, 9, 2, 1, 3, 1], dtype=uint8)"
      ]
     },
     "execution_count": 58,
     "metadata": {},
     "output_type": "execute_result"
    }
   ],
   "source": [
    "y_train_total[:9]"
   ]
  },
  {
   "cell_type": "code",
   "execution_count": 59,
   "metadata": {
    "colab": {},
    "colab_type": "code",
    "id": "WD9ThdCMBmVG"
   },
   "outputs": [],
   "source": [
    "def flatten_image(X):\n",
    "    d1, d2= X.shape\n",
    "    X_flatten = X.reshape(d1*d2)\n",
    "    \n",
    "    return X_flatten"
   ]
  },
  {
   "cell_type": "code",
   "execution_count": 60,
   "metadata": {
    "colab": {},
    "colab_type": "code",
    "id": "AWAJJfmDBmVK"
   },
   "outputs": [
    {
     "data": {
      "text/plain": [
       "((10000, 784), (10000, 784))"
      ]
     },
     "execution_count": 60,
     "metadata": {},
     "output_type": "execute_result"
    }
   ],
   "source": [
    "X_train_flat = np.array([flatten_image(img) for img in X_train_total]) # np.array([flatten_image(img) for img in X_train])\n",
    "X_test_flat = np.array([flatten_image(img) for img in X_test_total]) # your code here\n",
    "X_test_flat.shape, X_test_flat.shape"
   ]
  },
  {
   "cell_type": "markdown",
   "metadata": {
    "colab_type": "text",
    "id": "3BIAKuWGukeC"
   },
   "source": [
    "PCA works best when the data is scaled (think, why?), so let's scale our data. We will use [StandartScaler](https://scikit-learn.org/stable/modules/generated/sklearn.preprocessing.StandardScaler.html) for it. Note, that scaling replaces a collection of vectors x by the collection of the vectors $x' = (x-M)/D$, where $M$ is the mean vector of\n",
    "the sample, $D$ is the vector of standard deviations of all components of the vectors, and the division is component-wise. So, the scaled collection has the same size as the original one, and each column has 0 mean and unit standard deviation.\n"
   ]
  },
  {
   "cell_type": "code",
   "execution_count": 61,
   "metadata": {
    "colab": {},
    "colab_type": "code",
    "id": "AK1W8FecV9KZ"
   },
   "outputs": [],
   "source": [
    "scaler = StandardScaler()\n",
    "X_train_flat = scaler.fit_transform(X_train_flat)\n",
    "X_test_flat = scaler.transform(X_test_flat)"
   ]
  },
  {
   "cell_type": "markdown",
   "metadata": {
    "colab_type": "text",
    "id": "MPYv0JqzQRKA"
   },
   "source": [
    "Now, we call PCA and reduce the number of components for each vector. "
   ]
  },
  {
   "cell_type": "code",
   "execution_count": 62,
   "metadata": {
    "colab": {},
    "colab_type": "code",
    "id": "H6s30_saBmVO"
   },
   "outputs": [],
   "source": [
    "pca = PCA(n_components=128, random_state=42)\n",
    "X_train_flat = pca.fit_transform(X_train_flat)"
   ]
  },
  {
   "cell_type": "code",
   "execution_count": 63,
   "metadata": {
    "colab": {},
    "colab_type": "code",
    "id": "bKRDnygcBmVS"
   },
   "outputs": [],
   "source": [
    "X_test_flat = pca.transform(X_test_flat)"
   ]
  },
  {
   "cell_type": "code",
   "execution_count": 64,
   "metadata": {
    "colab": {
     "base_uri": "https://localhost:8080/",
     "height": 34
    },
    "colab_type": "code",
    "id": "MIkIzz4ACjP5",
    "outputId": "dd304091-8823-41a9-e39a-744e9dedaeb0"
   },
   "outputs": [
    {
     "data": {
      "text/plain": [
       "((10000, 128), (10000, 128))"
      ]
     },
     "execution_count": 64,
     "metadata": {},
     "output_type": "execute_result"
    }
   ],
   "source": [
    "X_test_flat.shape, X_test_flat.shape"
   ]
  },
  {
   "cell_type": "code",
   "execution_count": 65,
   "metadata": {
    "colab": {},
    "colab_type": "code",
    "id": "msj7fbHnBmVW"
   },
   "outputs": [
    {
     "name": "stdout",
     "output_type": "stream",
     "text": [
      "CPU times: user 3min 41s, sys: 0 ns, total: 3min 41s\n",
      "Wall time: 3min 42s\n"
     ]
    },
    {
     "name": "stderr",
     "output_type": "stream",
     "text": [
      "/home/tair/anaconda3/envs/data_science/lib/python3.8/site-packages/sklearn/svm/_base.py:976: ConvergenceWarning: Liblinear failed to converge, increase the number of iterations.\n",
      "  warnings.warn(\"Liblinear failed to converge, increase \"\n"
     ]
    },
    {
     "data": {
      "text/plain": [
       "LinearSVC(random_state=42)"
      ]
     },
     "execution_count": 65,
     "metadata": {},
     "output_type": "execute_result"
    }
   ],
   "source": [
    "%%time\n",
    "clf = LinearSVC(random_state=42)\n",
    "clf.fit(X_train_flat, y_train_total) "
   ]
  },
  {
   "cell_type": "code",
   "execution_count": 66,
   "metadata": {},
   "outputs": [
    {
     "name": "stdout",
     "output_type": "stream",
     "text": [
      "Test accuracy:  0.9079\n"
     ]
    }
   ],
   "source": [
    "y_pred = clf.predict(X_test_flat) # your code here\n",
    "acc = accuracy_score(y_test_total, y_pred) # your code here\n",
    "print(\"Test accuracy: \", acc)"
   ]
  },
  {
   "cell_type": "code",
   "execution_count": 67,
   "metadata": {
    "colab": {},
    "colab_type": "code",
    "id": "LKXr89h4_dbR"
   },
   "outputs": [
    {
     "ename": "NameError",
     "evalue": "name 'grader' is not defined",
     "output_type": "error",
     "traceback": [
      "\u001b[0;31m---------------------------------------------------------------------------\u001b[0m",
      "\u001b[0;31mNameError\u001b[0m                                 Traceback (most recent call last)",
      "\u001b[0;32m<ipython-input-67-f6b9c1f36494>\u001b[0m in \u001b[0;36m<module>\u001b[0;34m\u001b[0m\n\u001b[1;32m      1\u001b[0m \u001b[0;31m## GRADED PART, DO NOT CHANGE!\u001b[0m\u001b[0;34m\u001b[0m\u001b[0;34m\u001b[0m\u001b[0;34m\u001b[0m\u001b[0m\n\u001b[0;32m----> 2\u001b[0;31m \u001b[0mgrader\u001b[0m\u001b[0;34m.\u001b[0m\u001b[0mset_answer\u001b[0m\u001b[0;34m(\u001b[0m\u001b[0;34m\"keYiw\"\u001b[0m\u001b[0;34m,\u001b[0m \u001b[0macc\u001b[0m\u001b[0;34m)\u001b[0m\u001b[0;34m\u001b[0m\u001b[0;34m\u001b[0m\u001b[0m\n\u001b[0m",
      "\u001b[0;31mNameError\u001b[0m: name 'grader' is not defined"
     ]
    }
   ],
   "source": [
    "## GRADED PART, DO NOT CHANGE!\n",
    "grader.set_answer(\"keYiw\", acc)"
   ]
  },
  {
   "cell_type": "code",
   "execution_count": null,
   "metadata": {},
   "outputs": [],
   "source": [
    "grader.submit(COURSERA_EMAIL, COURSERA_TOKEN)"
   ]
  },
  {
   "cell_type": "code",
   "execution_count": null,
   "metadata": {
    "colab": {},
    "colab_type": "code",
    "id": "IWC3hQAMCcPe"
   },
   "outputs": [],
   "source": []
  }
 ],
 "metadata": {
  "colab": {
   "collapsed_sections": [],
   "name": "MNIST project.ipynb",
   "provenance": [],
   "toc_visible": true
  },
  "kernelspec": {
   "display_name": "Python 3",
   "language": "python",
   "name": "python3"
  },
  "language_info": {
   "codemirror_mode": {
    "name": "ipython",
    "version": 3
   },
   "file_extension": ".py",
   "mimetype": "text/x-python",
   "name": "python",
   "nbconvert_exporter": "python",
   "pygments_lexer": "ipython3",
   "version": "3.8.5"
  }
 },
 "nbformat": 4,
 "nbformat_minor": 1
}
