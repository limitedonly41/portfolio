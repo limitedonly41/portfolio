{
 "cells": [
  {
   "cell_type": "markdown",
   "metadata": {
    "id": "LYKqDli0Lqas"
   },
   "source": [
    "# Пример классификации методом kNN с использованием библиотеки\n",
    "\n",
    "**Постановка задачи** \n",
    "\n",
    "Ирисы Фишера — это набор данных для задачи классификации, на примере которого Рональд Фишер в 1936 году продемонстрировал работу разработанного им метода дискриминантного анализа. Иногда его также называют ирисами Андерсона, так как данные были собраны американским ботаником Эдгаром Андерсоном. Этот набор данных стал уже классическим, и часто используется в литературе для иллюстрации работы различных статистических алгоритмов.\n",
    "\n",
    "На основании этого набора данных требуется построить правило классификации, определяющее вид растения по данным измерений. Это задача многоклассовой классификации, так как имеется три класса — три вида ириса."
   ]
  },
  {
   "cell_type": "markdown",
   "metadata": {
    "id": "FB3xfscxLqat"
   },
   "source": [
    "**Понимание данных**\n",
    "\n",
    "Ирисы Фишера состоят из данных о 150 экземплярах ириса, по 50 экземпляров из трёх видов — Ирис щетинистый (Iris setosa), Ирис виргинский (Iris virginica) и Ирис разноцветный (Iris versicolor). Для каждого экземпляра измерялись четыре характеристики (в сантиметрах):\n",
    "* Длина наружной доли околоцветника (англ. sepal length);\n",
    "* Ширина наружной доли околоцветника (англ. sepal width);\n",
    "* Длина внутренней доли околоцветника (англ. petal length);\n",
    "* Ширина внутренней доли околоцветника (англ. petal width).\n"
   ]
  },
  {
   "cell_type": "markdown",
   "metadata": {
    "id": "OFP_i1F1Lqay"
   },
   "source": [
    "## План анализа данных (data mining):\n",
    "\n",
    "  1. Загрузить данные для обучения\n",
    "  2. При необходимости обработать данные перед обучением модели\n",
    "  3. Обучить модель на обучающей выборке\n",
    "  4. Проверить модель на тестовой выборке"
   ]
  },
  {
   "cell_type": "markdown",
   "metadata": {
    "id": "mKUYn0nHLqaz"
   },
   "source": [
    "## 1. Загрузить данные для обучения"
   ]
  },
  {
   "cell_type": "markdown",
   "metadata": {
    "id": "Bqqurd70Lqaz"
   },
   "source": [
    "**Шаг 1.1. Загружаем библиотеки** "
   ]
  },
  {
   "cell_type": "markdown",
   "metadata": {
    "id": "28Bf-HdaLqa4"
   },
   "source": [
    "Для корректной работы с данными в python требуется загрузить специальную библиотеку\n",
    "**pandas**, программную библиотеку на языке python для обработки и анализа данных. С этой библиотекой мы будем разбираться более подробно на ближайшем практическом занятии."
   ]
  },
  {
   "cell_type": "code",
   "execution_count": null,
   "metadata": {
    "id": "DuCW163qLqa4"
   },
   "outputs": [],
   "source": [
    "import pandas as pd "
   ]
  },
  {
   "cell_type": "markdown",
   "metadata": {
    "id": "NT0TLhqxLqa7"
   },
   "source": [
    "Для корректной работы с графиками в python требуется загрузить специальную библиотеку\n",
    "**matplotlib**, программную библиотеку на языке python для визуализации данных двумерной и трехмерной графикой.\n",
    "\n",
    "Графики используются для облегчения интерпретации полученных результатов, а также в качестве иллюстраций в презентациях и отчетах. "
   ]
  },
  {
   "cell_type": "code",
   "execution_count": null,
   "metadata": {
    "id": "gHGUZu8rLqa8"
   },
   "outputs": [],
   "source": [
    "import matplotlib.pyplot as plt # загружаем библиотеку и для простоты обращения в коде называем её сокращенно plt\n",
    "# указываем, чтобы картинки отображались прямо в ноутбуке \n",
    "%matplotlib inline "
   ]
  },
  {
   "cell_type": "markdown",
   "metadata": {
    "id": "JVr8btg7Qk3x"
   },
   "source": [
    "**Шаг 1.2. Загрузим данные**"
   ]
  },
  {
   "cell_type": "markdown",
   "metadata": {
    "id": "5pzU4iRyQN9H"
   },
   "source": [
    "Этот датасет настолько популярен, что он есть в библиотеке для машинного обучения. Также его можно скачать с сайта https://www.openml.org/d/61"
   ]
  },
  {
   "cell_type": "code",
   "execution_count": 123,
   "metadata": {
    "colab": {
     "base_uri": "https://localhost:8080/",
     "height": 1000
    },
    "id": "g6rmRg3BOTxG",
    "outputId": "f954d555-8b8f-48d1-9f20-002a31a32a70"
   },
   "outputs": [],
   "source": [
    "from sklearn import datasets\n",
    "iris = datasets.load_iris()\n"
   ]
  },
  {
   "cell_type": "markdown",
   "metadata": {
    "id": "cyw6XKTu6nty"
   },
   "source": [
    "Значения целевой переменной"
   ]
  },
  {
   "cell_type": "code",
   "execution_count": null,
   "metadata": {
    "colab": {
     "base_uri": "https://localhost:8080/",
     "height": 136
    },
    "id": "vPorT6tC6nAh",
    "outputId": "8e5b10f0-e3c5-4f01-b94b-331811db64e5"
   },
   "outputs": [
    {
     "data": {
      "text/plain": [
       "array([0, 0, 0, 0, 0, 0, 0, 0, 0, 0, 0, 0, 0, 0, 0, 0, 0, 0, 0, 0, 0, 0,\n",
       "       0, 0, 0, 0, 0, 0, 0, 0, 0, 0, 0, 0, 0, 0, 0, 0, 0, 0, 0, 0, 0, 0,\n",
       "       0, 0, 0, 0, 0, 0, 1, 1, 1, 1, 1, 1, 1, 1, 1, 1, 1, 1, 1, 1, 1, 1,\n",
       "       1, 1, 1, 1, 1, 1, 1, 1, 1, 1, 1, 1, 1, 1, 1, 1, 1, 1, 1, 1, 1, 1,\n",
       "       1, 1, 1, 1, 1, 1, 1, 1, 1, 1, 1, 1, 2, 2, 2, 2, 2, 2, 2, 2, 2, 2,\n",
       "       2, 2, 2, 2, 2, 2, 2, 2, 2, 2, 2, 2, 2, 2, 2, 2, 2, 2, 2, 2, 2, 2,\n",
       "       2, 2, 2, 2, 2, 2, 2, 2, 2, 2, 2, 2, 2, 2, 2, 2, 2, 2])"
      ]
     },
     "execution_count": 4,
     "metadata": {
      "tags": []
     },
     "output_type": "execute_result"
    }
   ],
   "source": [
    "iris.target"
   ]
  },
  {
   "cell_type": "markdown",
   "metadata": {
    "id": "kjttyDwn7CBP"
   },
   "source": [
    "**В качестве упражнения попробуйте скачать этот датасет и поработать с ним в гугл колабе.**"
   ]
  },
  {
   "cell_type": "markdown",
   "metadata": {
    "id": "jK9Xd2a5LqbB"
   },
   "source": [
    "*Что важно посмотреть после того, как мы загрузили данные?*\n",
    "- проверить, что данные действительно загрузились\n",
    "- посмотреть на данные, чтобы удостовериться, что они правильные: колонки имеют те же названия, что и в таблице и т.д.\n",
    "\n",
    "Для того чтобы это сделать, нужно вызвать от переменной *training_data* метод **head()**, который выводит первые 5 строк таблицы. \n",
    "\n",
    "Для вызова метода объекта необходимо сначала написать *имя объекта*, затем поставить *точку*, затем уже написать *название метода*. Обратите внимание, что в конце обязательно ставить скобочки, потому что метод - это функция и в ней есть аргументы, просто в данном случае мы их не передаем, поэтому оставляем поле пустым"
   ]
  },
  {
   "cell_type": "markdown",
   "metadata": {
    "id": "Mz4rsFhALqbJ"
   },
   "source": [
    "# 2. Обработать данные перед обучением модели"
   ]
  },
  {
   "cell_type": "markdown",
   "metadata": {
    "id": "0Z2QQXxSLqbK"
   },
   "source": [
    "**Шаг 2.1. Проверяем данные на наличие пропусков и типов переменных**\n",
    "\n"
   ]
  },
  {
   "cell_type": "markdown",
   "metadata": {
    "id": "oPiLacxmLqbO"
   },
   "source": [
    "**Шаг 2.2. Выделяем целевую переменную**\n"
   ]
  },
  {
   "cell_type": "markdown",
   "metadata": {
    "id": "gOM9Kj8pLqbS"
   },
   "source": [
    "В общем виде эти два шага всегда нужны. Но в нашем первом примере мы работаем на всём готовом, поэтому ничего этого делать не будем. "
   ]
  },
  {
   "cell_type": "markdown",
   "metadata": {
    "id": "LlPxJNlK7_lT"
   },
   "source": [
    "**Шаг 2.3. Визуализация данных**"
   ]
  },
  {
   "cell_type": "markdown",
   "metadata": {
    "id": "Z35SZF4M8DLU"
   },
   "source": [
    "Очень часто бывает полезным посмотреть на то, как устроены данные. "
   ]
  },
  {
   "cell_type": "markdown",
   "metadata": {
    "id": "UAiuBoq-8guD"
   },
   "source": [
    "У нас всего 4 переменных + 1 целевая переменная. Построим график, на котором совместим 2 переменных и целевую переменную. Первый график для наружней доли околоцвеника (sepal), второй - для внутренней доли околоцветника (petal). Цветом показаны три класса."
   ]
  },
  {
   "cell_type": "code",
   "execution_count": null,
   "metadata": {
    "colab": {
     "base_uri": "https://localhost:8080/",
     "height": 295
    },
    "id": "ENkh6Gr98Pit",
    "outputId": "8fa057de-7761-46c0-9f87-b91ad2334918"
   },
   "outputs": [
    {
     "data": {
      "image/png": "[encoded data removed]",
      "text/plain": [
       "<Figure size 432x288 with 1 Axes>"
      ]
     },
     "metadata": {
      "needs_background": "light",
      "tags": []
     },
     "output_type": "display_data"
    }
   ],
   "source": [
    "plt.scatter(iris.data[:,:1],iris.data[:,1:2],c=iris.target, cmap=plt.cm.Dark2)\n",
    "plt.title('Sepal plot')\n",
    "plt.xlabel('sepal length')\n",
    "plt.ylabel('sepal width')\n",
    "plt.show()"
   ]
  },
  {
   "cell_type": "code",
   "execution_count": null,
   "metadata": {
    "colab": {
     "base_uri": "https://localhost:8080/",
     "height": 295
    },
    "id": "MYqix5aZ9EPC",
    "outputId": "1a9faced-e49c-4b10-992b-8420bbd49ebe"
   },
   "outputs": [
    {
     "data": {
      "image/png": "[encoded data removed]",
      "text/plain": [
       "<Figure size 432x288 with 1 Axes>"
      ]
     },
     "metadata": {
      "needs_background": "light",
      "tags": []
     },
     "output_type": "display_data"
    }
   ],
   "source": [
    "plt.scatter(iris.data[:,2:3],iris.data[:,3:4],c=iris.target, cmap=plt.cm.Dark2)\n",
    "plt.title('Petal plot')\n",
    "plt.xlabel('petal length')\n",
    "plt.ylabel('petal width')\n",
    "plt.show()"
   ]
  },
  {
   "cell_type": "markdown",
   "metadata": {
    "id": "pJyxgxErLqbg"
   },
   "source": [
    "##   3. Обучить модель на обучающей выборке"
   ]
  },
  {
   "cell_type": "markdown",
   "metadata": {
    "id": "0FvCNInJLqbg"
   },
   "source": [
    "**Шаг 3.1. Выбираем метод, который будем использовать**\n",
    "\n",
    "Проще всего начать с простых методов. \n",
    "Часто используют несколько методов для построения моделей и сравнивают их между собой.\n",
    "\n",
    "На выбор метода для построения модели влияет набор признаков, размер выборки, интуиция про то, какая связь между входными переменными и целевой. Но часто решение принимается исходя из того, какая модель сработала лучше.\n",
    "\n",
    "В этом примере мы используем только kNN, в дальнейшем вам будет предложено его доработать."
   ]
  },
  {
   "cell_type": "markdown",
   "metadata": {
    "id": "m84QeANALqbi"
   },
   "source": [
    "Для корректной работы с методами построения моделей в python требуется загрузить специальную библиотеку\n",
    "**sklearn**, программную библиотеку на языке python для для машинного обучения и анализа данных."
   ]
  },
  {
   "cell_type": "code",
   "execution_count": null,
   "metadata": {
    "id": "f1mxLNeZLqbj"
   },
   "outputs": [],
   "source": [
    "from sklearn.model_selection import train_test_split\n",
    "from sklearn.neighbors import KNeighborsClassifier"
   ]
  },
  {
   "cell_type": "markdown",
   "metadata": {
    "id": "81hsVtx4Lqb1"
   },
   "source": [
    "train_test_split будем использовать для разделения датасета на обучающую (train) и тестовую (test) выборки.\n",
    "\n",
    "KNeighborsClassifier - для построения модели kNN."
   ]
  },
  {
   "cell_type": "code",
   "execution_count": null,
   "metadata": {
    "id": "RnFT2A3w_b_k"
   },
   "outputs": [],
   "source": [
    "X_train, X_test, y_train, y_test = train_test_split(iris.data, iris.target, test_size=0.33, random_state=42)"
   ]
  },
  {
   "cell_type": "markdown",
   "metadata": {
    "id": "c6W0uM8i_jdz"
   },
   "source": [
    "Выделили треть примеров в тестовую выборку. random_state - для того, чтобы у всех одинаковым образом разделился. Очевидно, что результат на тестовой выборке может зависить от способа разделения."
   ]
  },
  {
   "cell_type": "markdown",
   "metadata": {
    "id": "TM7UfC6uLqb2"
   },
   "source": [
    "**Шаг 3.2. Обучить модель**\n",
    "\n",
    "Как правило для обучения модели используется метод **fit()**, в который передают на вход два аргумента: \n",
    "таблицу входных признаков и столбец значений целевой переменной"
   ]
  },
  {
   "cell_type": "markdown",
   "metadata": {
    "id": "q4N8tiZuLqb5"
   },
   "source": [
    "Попробуем сначала \"обучить\" модель с одним соседом."
   ]
  },
  {
   "cell_type": "code",
   "execution_count": null,
   "metadata": {
    "colab": {
     "base_uri": "https://localhost:8080/",
     "height": 68
    },
    "id": "p4avWumzLqb5",
    "outputId": "6a576016-2de4-49a3-9670-fb7c77c8394d"
   },
   "outputs": [
    {
     "data": {
      "text/plain": [
       "KNeighborsClassifier(algorithm='auto', leaf_size=30, metric='minkowski',\n",
       "                     metric_params=None, n_jobs=None, n_neighbors=1, p=2,\n",
       "                     weights='uniform')"
      ]
     },
     "execution_count": 9,
     "metadata": {
      "tags": []
     },
     "output_type": "execute_result"
    }
   ],
   "source": [
    "knn1 = KNeighborsClassifier(1)\n",
    "knn1.fit(X_train,y_train)"
   ]
  },
  {
   "cell_type": "markdown",
   "metadata": {
    "id": "vNdd15xULqb7"
   },
   "source": [
    "Здесь выведены параметры, с которыми модель настраивалась. Наиболее важные тут: расстояние и количество соседей."
   ]
  },
  {
   "cell_type": "markdown",
   "metadata": {
    "id": "5QFgDcQXLqcf"
   },
   "source": [
    "# 4. Провалидировать модель на тестовой выборке"
   ]
  },
  {
   "cell_type": "markdown",
   "metadata": {
    "id": "LL7Pb7IlLqcg"
   },
   "source": [
    "**Шаг 4.1. Оценить модель по выбранной заранее метрике.**\n"
   ]
  },
  {
   "cell_type": "markdown",
   "metadata": {
    "id": "NDTfUzZdLqch"
   },
   "source": [
    "*Если моделей было несколько, то здесь оценивают, какая из них лучше*\n",
    "\n",
    "Для оценки нам нужно получить прогнозы целевой переменной на тестовых данных. \n",
    "\n",
    "Для этого вызовем у каждой модели метод **predict()**, в качестве аргумента передадим тестовую выборку."
   ]
  },
  {
   "cell_type": "code",
   "execution_count": null,
   "metadata": {
    "colab": {
     "base_uri": "https://localhost:8080/",
     "height": 68
    },
    "id": "DK3TytoFLqch",
    "outputId": "8ea3d216-a029-4832-e860-2b55b35a34c4"
   },
   "outputs": [
    {
     "data": {
      "text/plain": [
       "array([1, 0, 2, 1, 1, 0, 1, 2, 1, 1, 2, 0, 0, 0, 0, 1, 2, 1, 1, 2, 0, 2,\n",
       "       0, 2, 2, 2, 2, 2, 0, 0, 0, 0, 1, 0, 0, 2, 1, 0, 0, 0, 2, 1, 1, 0,\n",
       "       0, 1, 1, 2, 1, 2])"
      ]
     },
     "execution_count": 10,
     "metadata": {
      "tags": []
     },
     "output_type": "execute_result"
    }
   ],
   "source": [
    "pred1 = knn1.predict(X_test)\n",
    "pred1"
   ]
  },
  {
   "cell_type": "markdown",
   "metadata": {
    "id": "kxRo4sq1Lqcm"
   },
   "source": [
    "Качество модели оценим через точность (accuracy) "
   ]
  },
  {
   "cell_type": "code",
   "execution_count": null,
   "metadata": {
    "colab": {
     "base_uri": "https://localhost:8080/",
     "height": 34
    },
    "id": "VBEX2xoYLqcp",
    "outputId": "f8f7013d-872c-49b0-de9e-4be2e96d7e9a"
   },
   "outputs": [
    {
     "name": "stdout",
     "output_type": "stream",
     "text": [
      "0.98\n"
     ]
    }
   ],
   "source": [
    "from sklearn.metrics import accuracy_score\n",
    "print (accuracy_score(y_test, pred1))"
   ]
  },
  {
   "cell_type": "code",
   "execution_count": null,
   "metadata": {
    "colab": {
     "base_uri": "https://localhost:8080/",
     "height": 34
    },
    "id": "yFh468jUCImL",
    "outputId": "bc8fccfa-c43b-4b9d-e4d9-ade81569a1d8"
   },
   "outputs": [
    {
     "name": "stdout",
     "output_type": "stream",
     "text": [
      "1.0\n"
     ]
    }
   ],
   "source": [
    "knn11 = KNeighborsClassifier(11)\n",
    "knn11.fit(X_train,y_train)\n",
    "pred11 = knn11.predict(X_test)\n",
    "print (accuracy_score(y_test, pred11))"
   ]
  },
  {
   "cell_type": "markdown",
   "metadata": {
    "id": "3WREujt8Lqc5"
   },
   "source": [
    "# Задание\n",
    "\n",
    "Нужно сделать свою реализацию kNN с доработками.\n",
    "\n",
    "Алгоритм kNN имеет ряд проблем, которые можно постараться хотя бы частично решить.\n",
    "\n",
    "Проблема 1. Разные признаки объекта могут иметь разный диапазон значений. Например, значения атрибута x1 меняются в диапазоне от 0 до 1, а атрибута x2 – от 0 до 10000000.Вследствие этого, значения расстояния между объектами сильнее зависят от признаков с большими диапазонами.\n",
    "\n",
    "Решение 1: Данные необходимо нормализовать.\n",
    "\n",
    "Проблема 2. Алгоритм может давать разные результаты при разных k. Например, это\n",
    "может быть из-за шумов (выбросов) в данных.\n",
    "\n",
    "Решение: Подбирать оптимальную k, т.е. такое число соседей при котором объекты на тестовой выборке будут давать наименьшую ошибку. \n",
    "\n",
    "Проблема 3. Иногда евклидово расстояние не подходит, например, значения признаков не являются числовыми.\n",
    "\n",
    "Решение 3. Пробовать другие метрики расстояния.\n",
    "\n",
    "Проблема 4. Иногда данные могут быть распределены так, что число соседей k – не\n",
    "обязательно должно быть фиксированным.\n",
    "\n",
    "Решение 4. Использовать метод парзеновского окна.\n",
    "\n",
    "Проблема 5. Не все признаки равнозначны.\n",
    "\n",
    "Решение 5. Использовать разные ухищрения при нормировке. И/или использовать\n",
    "взвешенные метрики расстояний.\n",
    "\n",
    "Проблема 6. Из-за того, что приходится запоминать всю выборку, проблемой могут стать очень большие объёмы обучающей выборки.\n",
    "Решение 6. Оставлять только типичных представителей классов — эталоны. Избавляться от неинформативных и шумовых объектов.\n",
    "\n",
    "Проблема 7. Признаков слишком много – это так называемая проблема проклятия\n",
    "размерности.\n",
    "Решение 7. Использовать feature engineering или методы снижения размерности."
   ]
  },
  {
   "cell_type": "code",
   "execution_count": 1,
   "metadata": {},
   "outputs": [],
   "source": [
    "import operator\n",
    "\n",
    "def euc_dist(x1, x2):\n",
    "    return np.sqrt(np.sum((x1-x2)**2))"
   ]
  },
  {
   "cell_type": "code",
   "execution_count": 2,
   "metadata": {},
   "outputs": [],
   "source": [
    "class KNearestNeighbors():\n",
    "    \n",
    "    def __init__(self, K, dist):\n",
    "        self.K = K\n",
    "        self.dist = dist\n",
    "\n",
    "    def fit(self, x_train, y_train):\n",
    "        self.X_train = x_train\n",
    "        self.Y_train = y_train\n",
    "\n",
    "    def predict(self, X_test):\n",
    "        \n",
    "        # list to store all our predictions\n",
    "        predictions = []\n",
    "        \n",
    "        # loop over all observations\n",
    "        for i in range(len(X_test)):            \n",
    "            \n",
    "            # calculate the distance between the test point and all other points in the training set\n",
    "            dist = np.array([self.dist(X_test[i], x_t) for x_t in self.X_train])\n",
    "            \n",
    "            # sort the distances and return the indices of K neighbors\n",
    "            dist_sorted = dist.argsort()[:self.K]\n",
    "            \n",
    "            # get the neighbors\n",
    "            neigh_count = {}\n",
    "\n",
    "            # for each neighbor find the class\n",
    "            for idx in dist_sorted:\n",
    "                if self.Y_train[idx] in neigh_count:\n",
    "                    neigh_count[self.Y_train[idx]] += 1\n",
    "                else:\n",
    "                    neigh_count[self.Y_train[idx]] = 1\n",
    "            \n",
    "            # get the most common class label \n",
    "            sorted_neigh_count = sorted(neigh_count.items(), key=operator.itemgetter(1), reverse=True)\n",
    "            predictions.append(sorted_neigh_count[0][0])\n",
    "        return predictions"
   ]
  },
  {
   "cell_type": "code",
   "execution_count": null,
   "metadata": {},
   "outputs": [],
   "source": []
  },
  {
   "cell_type": "code",
   "execution_count": 3,
   "metadata": {},
   "outputs": [],
   "source": [
    "def Accuracy(Y_val, Y_pred):\n",
    "    TP = (Y_val * Y_pred).sum()\n",
    "    TN = np.logical_not(Y_val | Y_pred).sum()\n",
    "    return (TP + TN) / len(Y_val)"
   ]
  },
  {
   "cell_type": "markdown",
   "metadata": {},
   "source": [
    "## Проблема 1. Разные признаки объекта могут иметь разный диапазон значений. Например, значения атрибута x1 меняются в диапазоне от 0 до 1, а атрибута x2 – от 0 до 10000000.Вследствие этого, значения расстояния между объектами сильнее зависят от признаков с большими диапазонами.\n",
    "\n",
    "### Решение 1: Данные необходимо нормализовать."
   ]
  },
  {
   "cell_type": "code",
   "execution_count": 4,
   "metadata": {
    "id": "XgvX0BHeqEbU"
   },
   "outputs": [],
   "source": [
    "import pandas as pd\n",
    "import numpy as np\n",
    "import matplotlib.pyplot as plt\n",
    "import math\n",
    "%matplotlib inline"
   ]
  },
  {
   "cell_type": "code",
   "execution_count": 5,
   "metadata": {},
   "outputs": [
    {
     "data": {
      "text/html": [
       "<div>\n",
       "<style scoped>\n",
       "    .dataframe tbody tr th:only-of-type {\n",
       "        vertical-align: middle;\n",
       "    }\n",
       "\n",
       "    .dataframe tbody tr th {\n",
       "        vertical-align: top;\n",
       "    }\n",
       "\n",
       "    .dataframe thead th {\n",
       "        text-align: right;\n",
       "    }\n",
       "</style>\n",
       "<table border=\"1\" class=\"dataframe\">\n",
       "  <thead>\n",
       "    <tr style=\"text-align: right;\">\n",
       "      <th></th>\n",
       "      <th>sepal_length_(cm)</th>\n",
       "      <th>sepal_width_(cm)</th>\n",
       "      <th>petal_length_(cm)</th>\n",
       "      <th>petal_width_(cm)</th>\n",
       "      <th>target</th>\n",
       "    </tr>\n",
       "  </thead>\n",
       "  <tbody>\n",
       "    <tr>\n",
       "      <th>0</th>\n",
       "      <td>5.1</td>\n",
       "      <td>3.5</td>\n",
       "      <td>1.4</td>\n",
       "      <td>0.2</td>\n",
       "      <td>0.0</td>\n",
       "    </tr>\n",
       "    <tr>\n",
       "      <th>1</th>\n",
       "      <td>4.9</td>\n",
       "      <td>3.0</td>\n",
       "      <td>1.4</td>\n",
       "      <td>0.2</td>\n",
       "      <td>0.0</td>\n",
       "    </tr>\n",
       "    <tr>\n",
       "      <th>2</th>\n",
       "      <td>4.7</td>\n",
       "      <td>3.2</td>\n",
       "      <td>1.3</td>\n",
       "      <td>0.2</td>\n",
       "      <td>0.0</td>\n",
       "    </tr>\n",
       "    <tr>\n",
       "      <th>3</th>\n",
       "      <td>4.6</td>\n",
       "      <td>3.1</td>\n",
       "      <td>1.5</td>\n",
       "      <td>0.2</td>\n",
       "      <td>0.0</td>\n",
       "    </tr>\n",
       "    <tr>\n",
       "      <th>4</th>\n",
       "      <td>5.0</td>\n",
       "      <td>3.6</td>\n",
       "      <td>1.4</td>\n",
       "      <td>0.2</td>\n",
       "      <td>0.0</td>\n",
       "    </tr>\n",
       "    <tr>\n",
       "      <th>...</th>\n",
       "      <td>...</td>\n",
       "      <td>...</td>\n",
       "      <td>...</td>\n",
       "      <td>...</td>\n",
       "      <td>...</td>\n",
       "    </tr>\n",
       "    <tr>\n",
       "      <th>145</th>\n",
       "      <td>6.7</td>\n",
       "      <td>3.0</td>\n",
       "      <td>5.2</td>\n",
       "      <td>2.3</td>\n",
       "      <td>2.0</td>\n",
       "    </tr>\n",
       "    <tr>\n",
       "      <th>146</th>\n",
       "      <td>6.3</td>\n",
       "      <td>2.5</td>\n",
       "      <td>5.0</td>\n",
       "      <td>1.9</td>\n",
       "      <td>2.0</td>\n",
       "    </tr>\n",
       "    <tr>\n",
       "      <th>147</th>\n",
       "      <td>6.5</td>\n",
       "      <td>3.0</td>\n",
       "      <td>5.2</td>\n",
       "      <td>2.0</td>\n",
       "      <td>2.0</td>\n",
       "    </tr>\n",
       "    <tr>\n",
       "      <th>148</th>\n",
       "      <td>6.2</td>\n",
       "      <td>3.4</td>\n",
       "      <td>5.4</td>\n",
       "      <td>2.3</td>\n",
       "      <td>2.0</td>\n",
       "    </tr>\n",
       "    <tr>\n",
       "      <th>149</th>\n",
       "      <td>5.9</td>\n",
       "      <td>3.0</td>\n",
       "      <td>5.1</td>\n",
       "      <td>1.8</td>\n",
       "      <td>2.0</td>\n",
       "    </tr>\n",
       "  </tbody>\n",
       "</table>\n",
       "<p>150 rows × 5 columns</p>\n",
       "</div>"
      ],
      "text/plain": [
       "     sepal_length_(cm)  sepal_width_(cm)  petal_length_(cm)  petal_width_(cm)  \\\n",
       "0                  5.1               3.5                1.4               0.2   \n",
       "1                  4.9               3.0                1.4               0.2   \n",
       "2                  4.7               3.2                1.3               0.2   \n",
       "3                  4.6               3.1                1.5               0.2   \n",
       "4                  5.0               3.6                1.4               0.2   \n",
       "..                 ...               ...                ...               ...   \n",
       "145                6.7               3.0                5.2               2.3   \n",
       "146                6.3               2.5                5.0               1.9   \n",
       "147                6.5               3.0                5.2               2.0   \n",
       "148                6.2               3.4                5.4               2.3   \n",
       "149                5.9               3.0                5.1               1.8   \n",
       "\n",
       "     target  \n",
       "0       0.0  \n",
       "1       0.0  \n",
       "2       0.0  \n",
       "3       0.0  \n",
       "4       0.0  \n",
       "..      ...  \n",
       "145     2.0  \n",
       "146     2.0  \n",
       "147     2.0  \n",
       "148     2.0  \n",
       "149     2.0  \n",
       "\n",
       "[150 rows x 5 columns]"
      ]
     },
     "execution_count": 5,
     "metadata": {},
     "output_type": "execute_result"
    }
   ],
   "source": [
    "from sklearn.datasets import load_iris\n",
    "\n",
    "dataset = load_iris()\n",
    "X, y = dataset.data, dataset.target  # pylint: disable=no-member\n",
    "# clf = DecisionTreeClassifier(max_depth=2)\n",
    "# clf.fit(X, y)\n",
    "# df['label'] = df.target\n",
    "# df = df.drop(['target'], axis=1)\n",
    "df= pd.DataFrame(data= np.c_[dataset['data'], dataset['target']],\n",
    "                 columns= dataset['feature_names'] + ['target'])\n",
    "df.columns = df.columns.str.replace(' ', '_')\n",
    "df = df.rename(columns={\"species\": \"label\"})\n",
    "label = df['target']\n",
    "# df = df.drop(['target'], axis=1)\n",
    "df"
   ]
  },
  {
   "cell_type": "code",
   "execution_count": 6,
   "metadata": {},
   "outputs": [
    {
     "data": {
      "text/html": [
       "<div>\n",
       "<style scoped>\n",
       "    .dataframe tbody tr th:only-of-type {\n",
       "        vertical-align: middle;\n",
       "    }\n",
       "\n",
       "    .dataframe tbody tr th {\n",
       "        vertical-align: top;\n",
       "    }\n",
       "\n",
       "    .dataframe thead th {\n",
       "        text-align: right;\n",
       "    }\n",
       "</style>\n",
       "<table border=\"1\" class=\"dataframe\">\n",
       "  <thead>\n",
       "    <tr style=\"text-align: right;\">\n",
       "      <th></th>\n",
       "      <th>count</th>\n",
       "      <th>mean</th>\n",
       "      <th>std</th>\n",
       "      <th>min</th>\n",
       "      <th>25%</th>\n",
       "      <th>50%</th>\n",
       "      <th>75%</th>\n",
       "      <th>max</th>\n",
       "    </tr>\n",
       "  </thead>\n",
       "  <tbody>\n",
       "    <tr>\n",
       "      <th>sepal_length_(cm)</th>\n",
       "      <td>150.0</td>\n",
       "      <td>5.843333</td>\n",
       "      <td>0.828066</td>\n",
       "      <td>4.3</td>\n",
       "      <td>5.1</td>\n",
       "      <td>5.80</td>\n",
       "      <td>6.4</td>\n",
       "      <td>7.9</td>\n",
       "    </tr>\n",
       "    <tr>\n",
       "      <th>sepal_width_(cm)</th>\n",
       "      <td>150.0</td>\n",
       "      <td>3.057333</td>\n",
       "      <td>0.435866</td>\n",
       "      <td>2.0</td>\n",
       "      <td>2.8</td>\n",
       "      <td>3.00</td>\n",
       "      <td>3.3</td>\n",
       "      <td>4.4</td>\n",
       "    </tr>\n",
       "    <tr>\n",
       "      <th>petal_length_(cm)</th>\n",
       "      <td>150.0</td>\n",
       "      <td>3.758000</td>\n",
       "      <td>1.765298</td>\n",
       "      <td>1.0</td>\n",
       "      <td>1.6</td>\n",
       "      <td>4.35</td>\n",
       "      <td>5.1</td>\n",
       "      <td>6.9</td>\n",
       "    </tr>\n",
       "    <tr>\n",
       "      <th>petal_width_(cm)</th>\n",
       "      <td>150.0</td>\n",
       "      <td>1.199333</td>\n",
       "      <td>0.762238</td>\n",
       "      <td>0.1</td>\n",
       "      <td>0.3</td>\n",
       "      <td>1.30</td>\n",
       "      <td>1.8</td>\n",
       "      <td>2.5</td>\n",
       "    </tr>\n",
       "    <tr>\n",
       "      <th>target</th>\n",
       "      <td>150.0</td>\n",
       "      <td>1.000000</td>\n",
       "      <td>0.819232</td>\n",
       "      <td>0.0</td>\n",
       "      <td>0.0</td>\n",
       "      <td>1.00</td>\n",
       "      <td>2.0</td>\n",
       "      <td>2.0</td>\n",
       "    </tr>\n",
       "  </tbody>\n",
       "</table>\n",
       "</div>"
      ],
      "text/plain": [
       "                   count      mean       std  min  25%   50%  75%  max\n",
       "sepal_length_(cm)  150.0  5.843333  0.828066  4.3  5.1  5.80  6.4  7.9\n",
       "sepal_width_(cm)   150.0  3.057333  0.435866  2.0  2.8  3.00  3.3  4.4\n",
       "petal_length_(cm)  150.0  3.758000  1.765298  1.0  1.6  4.35  5.1  6.9\n",
       "petal_width_(cm)   150.0  1.199333  0.762238  0.1  0.3  1.30  1.8  2.5\n",
       "target             150.0  1.000000  0.819232  0.0  0.0  1.00  2.0  2.0"
      ]
     },
     "execution_count": 6,
     "metadata": {},
     "output_type": "execute_result"
    }
   ],
   "source": [
    "df.describe().transpose()"
   ]
  },
  {
   "cell_type": "code",
   "execution_count": 7,
   "metadata": {},
   "outputs": [
    {
     "data": {
      "text/plain": [
       "Index(['sepal_length_(cm)', 'sepal_width_(cm)', 'petal_length_(cm)',\n",
       "       'petal_width_(cm)'],\n",
       "      dtype='object')"
      ]
     },
     "execution_count": 7,
     "metadata": {},
     "output_type": "execute_result"
    }
   ],
   "source": [
    "colnames_numeric = df.columns[0:4]\n",
    "colnames_numeric"
   ]
  },
  {
   "cell_type": "code",
   "execution_count": 8,
   "metadata": {},
   "outputs": [],
   "source": [
    "from sklearn.preprocessing import MinMaxScaler\n",
    "scaler = MinMaxScaler()\n",
    "df[colnames_numeric] = scaler.fit_transform(df[colnames_numeric])"
   ]
  },
  {
   "cell_type": "code",
   "execution_count": 9,
   "metadata": {},
   "outputs": [
    {
     "data": {
      "text/html": [
       "<div>\n",
       "<style scoped>\n",
       "    .dataframe tbody tr th:only-of-type {\n",
       "        vertical-align: middle;\n",
       "    }\n",
       "\n",
       "    .dataframe tbody tr th {\n",
       "        vertical-align: top;\n",
       "    }\n",
       "\n",
       "    .dataframe thead th {\n",
       "        text-align: right;\n",
       "    }\n",
       "</style>\n",
       "<table border=\"1\" class=\"dataframe\">\n",
       "  <thead>\n",
       "    <tr style=\"text-align: right;\">\n",
       "      <th></th>\n",
       "      <th>sepal_length_(cm)</th>\n",
       "      <th>sepal_width_(cm)</th>\n",
       "      <th>petal_length_(cm)</th>\n",
       "      <th>petal_width_(cm)</th>\n",
       "      <th>target</th>\n",
       "    </tr>\n",
       "  </thead>\n",
       "  <tbody>\n",
       "    <tr>\n",
       "      <th>0</th>\n",
       "      <td>0.222222</td>\n",
       "      <td>0.625000</td>\n",
       "      <td>0.067797</td>\n",
       "      <td>0.041667</td>\n",
       "      <td>0.0</td>\n",
       "    </tr>\n",
       "    <tr>\n",
       "      <th>1</th>\n",
       "      <td>0.166667</td>\n",
       "      <td>0.416667</td>\n",
       "      <td>0.067797</td>\n",
       "      <td>0.041667</td>\n",
       "      <td>0.0</td>\n",
       "    </tr>\n",
       "    <tr>\n",
       "      <th>2</th>\n",
       "      <td>0.111111</td>\n",
       "      <td>0.500000</td>\n",
       "      <td>0.050847</td>\n",
       "      <td>0.041667</td>\n",
       "      <td>0.0</td>\n",
       "    </tr>\n",
       "    <tr>\n",
       "      <th>3</th>\n",
       "      <td>0.083333</td>\n",
       "      <td>0.458333</td>\n",
       "      <td>0.084746</td>\n",
       "      <td>0.041667</td>\n",
       "      <td>0.0</td>\n",
       "    </tr>\n",
       "    <tr>\n",
       "      <th>4</th>\n",
       "      <td>0.194444</td>\n",
       "      <td>0.666667</td>\n",
       "      <td>0.067797</td>\n",
       "      <td>0.041667</td>\n",
       "      <td>0.0</td>\n",
       "    </tr>\n",
       "    <tr>\n",
       "      <th>...</th>\n",
       "      <td>...</td>\n",
       "      <td>...</td>\n",
       "      <td>...</td>\n",
       "      <td>...</td>\n",
       "      <td>...</td>\n",
       "    </tr>\n",
       "    <tr>\n",
       "      <th>145</th>\n",
       "      <td>0.666667</td>\n",
       "      <td>0.416667</td>\n",
       "      <td>0.711864</td>\n",
       "      <td>0.916667</td>\n",
       "      <td>2.0</td>\n",
       "    </tr>\n",
       "    <tr>\n",
       "      <th>146</th>\n",
       "      <td>0.555556</td>\n",
       "      <td>0.208333</td>\n",
       "      <td>0.677966</td>\n",
       "      <td>0.750000</td>\n",
       "      <td>2.0</td>\n",
       "    </tr>\n",
       "    <tr>\n",
       "      <th>147</th>\n",
       "      <td>0.611111</td>\n",
       "      <td>0.416667</td>\n",
       "      <td>0.711864</td>\n",
       "      <td>0.791667</td>\n",
       "      <td>2.0</td>\n",
       "    </tr>\n",
       "    <tr>\n",
       "      <th>148</th>\n",
       "      <td>0.527778</td>\n",
       "      <td>0.583333</td>\n",
       "      <td>0.745763</td>\n",
       "      <td>0.916667</td>\n",
       "      <td>2.0</td>\n",
       "    </tr>\n",
       "    <tr>\n",
       "      <th>149</th>\n",
       "      <td>0.444444</td>\n",
       "      <td>0.416667</td>\n",
       "      <td>0.694915</td>\n",
       "      <td>0.708333</td>\n",
       "      <td>2.0</td>\n",
       "    </tr>\n",
       "  </tbody>\n",
       "</table>\n",
       "<p>150 rows × 5 columns</p>\n",
       "</div>"
      ],
      "text/plain": [
       "     sepal_length_(cm)  sepal_width_(cm)  petal_length_(cm)  petal_width_(cm)  \\\n",
       "0             0.222222          0.625000           0.067797          0.041667   \n",
       "1             0.166667          0.416667           0.067797          0.041667   \n",
       "2             0.111111          0.500000           0.050847          0.041667   \n",
       "3             0.083333          0.458333           0.084746          0.041667   \n",
       "4             0.194444          0.666667           0.067797          0.041667   \n",
       "..                 ...               ...                ...               ...   \n",
       "145           0.666667          0.416667           0.711864          0.916667   \n",
       "146           0.555556          0.208333           0.677966          0.750000   \n",
       "147           0.611111          0.416667           0.711864          0.791667   \n",
       "148           0.527778          0.583333           0.745763          0.916667   \n",
       "149           0.444444          0.416667           0.694915          0.708333   \n",
       "\n",
       "     target  \n",
       "0       0.0  \n",
       "1       0.0  \n",
       "2       0.0  \n",
       "3       0.0  \n",
       "4       0.0  \n",
       "..      ...  \n",
       "145     2.0  \n",
       "146     2.0  \n",
       "147     2.0  \n",
       "148     2.0  \n",
       "149     2.0  \n",
       "\n",
       "[150 rows x 5 columns]"
      ]
     },
     "execution_count": 9,
     "metadata": {},
     "output_type": "execute_result"
    }
   ],
   "source": [
    "df"
   ]
  },
  {
   "cell_type": "markdown",
   "metadata": {},
   "source": [
    "## Проблема 2. Алгоритм может давать разные результаты при разных k. Например, это может быть из-за шумов (выбросов) в данных.\n",
    "\n",
    "\n",
    "### Решение: Подбирать оптимальную k, т.е. такое число соседей при котором объекты на тестовой выборке будут давать наименьшую ошибку. "
   ]
  },
  {
   "cell_type": "code",
   "execution_count": 10,
   "metadata": {},
   "outputs": [],
   "source": [
    "from sklearn.model_selection import train_test_split\n",
    "X_train, X_test, y_train, y_test = train_test_split(X, y, test_size=0.33, random_state=42)\n"
   ]
  },
  {
   "cell_type": "code",
   "execution_count": 11,
   "metadata": {},
   "outputs": [],
   "source": [
    "clf = KNearestNeighbors(4,euc_dist)\n",
    "clf.fit(X_train, y_train)"
   ]
  },
  {
   "cell_type": "code",
   "execution_count": 12,
   "metadata": {},
   "outputs": [
    {
     "name": "stdout",
     "output_type": "stream",
     "text": [
      "Accuracy: 0.98\n"
     ]
    }
   ],
   "source": [
    "from sklearn.metrics import accuracy_score\n",
    "predictions = clf.predict(X_test)\n",
    "\n",
    "print('Accuracy:', accuracy_score(y_test, predictions))"
   ]
  },
  {
   "cell_type": "code",
   "execution_count": null,
   "metadata": {},
   "outputs": [],
   "source": []
  },
  {
   "cell_type": "code",
   "execution_count": 13,
   "metadata": {},
   "outputs": [
    {
     "name": "stdout",
     "output_type": "stream",
     "text": [
      "Minimum error:- 0.0 at K = 10\n"
     ]
    },
    {
     "data": {
      "image/png": "[encoded data removed]",
      "text/plain": [
       "<Figure size 720x432 with 1 Axes>"
      ]
     },
     "metadata": {
      "needs_background": "light"
     },
     "output_type": "display_data"
    }
   ],
   "source": [
    "error_rate = []\n",
    "for i in range(1,40):\n",
    " knn = KNearestNeighbors(i,euc_dist)\n",
    " knn.fit(X_train,y_train)\n",
    " pred_i = knn.predict(X_test)\n",
    " error_rate.append(np.mean(pred_i != y_test))\n",
    "\n",
    "plt.figure(figsize=(10,6))\n",
    "plt.plot(range(1,40),error_rate,color='blue', linestyle='dashed', \n",
    "         marker='o',markerfacecolor='red', markersize=10)\n",
    "plt.title('Error Rate vs. K Value')\n",
    "plt.xlabel('K')\n",
    "plt.ylabel('Error Rate')\n",
    "print(\"Minimum error:-\",min(error_rate),\"at K =\",error_rate.index(min(error_rate)))"
   ]
  },
  {
   "cell_type": "code",
   "execution_count": 14,
   "metadata": {},
   "outputs": [
    {
     "name": "stdout",
     "output_type": "stream",
     "text": [
      "Accuracy: 0.98\n"
     ]
    }
   ],
   "source": [
    "clf = KNearestNeighbors(10,euc_dist)\n",
    "clf.fit(X_train, y_train)\n",
    "predictions = clf.predict(X_test)\n",
    "print('Accuracy:', accuracy_score(y_test, predictions))"
   ]
  },
  {
   "cell_type": "markdown",
   "metadata": {},
   "source": [
    "## Проблема 3. Иногда евклидово расстояние не подходит, например, значения признаков не являются числовыми.\n",
    "\n",
    "### Решение 3. Пробовать другие метрики расстояния."
   ]
  },
  {
   "cell_type": "code",
   "execution_count": 15,
   "metadata": {},
   "outputs": [],
   "source": [
    "def manhattan(p1, p2): \n",
    "    dist = 0\n",
    "    for i in range(len(p1)):\n",
    "        dist = dist + abs(p1[i]-p2[i])\n",
    "    return dist;\n",
    "\n",
    "def minkowski(p1, p2, q): \n",
    "    dist = 0\n",
    "    for i in range(len(p1)):\n",
    "        dist = dist + abs(p1[i]-p2[i])**q\n",
    "    dist = np.sqrt(dist)**(1/q)\n",
    "    return dist;"
   ]
  },
  {
   "cell_type": "code",
   "execution_count": 16,
   "metadata": {},
   "outputs": [
    {
     "name": "stdout",
     "output_type": "stream",
     "text": [
      "Accuracy: 0.98\n"
     ]
    }
   ],
   "source": [
    "clf = KNearestNeighbors(10,manhattan)\n",
    "clf.fit(X_train, y_train)\n",
    "predictions = clf.predict(X_test)\n",
    "print('Accuracy:', accuracy_score(y_test, predictions))"
   ]
  },
  {
   "cell_type": "code",
   "execution_count": null,
   "metadata": {},
   "outputs": [],
   "source": []
  },
  {
   "cell_type": "markdown",
   "metadata": {},
   "source": [
    "## Проблема 4. Иногда данные могут быть распределены так, что число соседей k – не обязательно должно быть фиксированным.\n",
    "\n",
    "### Решение 4. Использовать метод парзеновского окна.\n"
   ]
  },
  {
   "cell_type": "code",
   "execution_count": 17,
   "metadata": {},
   "outputs": [],
   "source": [
    "def evclid_distance(x):\n",
    "    r = 0\n",
    "    for i in range(len(x)):\n",
    "        r+=x[i]**2\n",
    "    return r**0.5"
   ]
  },
  {
   "cell_type": "code",
   "execution_count": 18,
   "metadata": {},
   "outputs": [],
   "source": [
    "def LOO(data, y, distance, func):\n",
    "    n = data.shape[0]\n",
    "    sum_k = {}\n",
    "    for i in range(n):\n",
    "        n_data = np.vstack([data[:i], data[i+1:]])\n",
    "        n_y = np.concatenate([y[:i], y[i+1:]])\n",
    "        for j in range(1, n-2):\n",
    "            res = func(data[i], j, n_data, n_y, distance)\n",
    "            if j not in sum_k:\n",
    "                sum_k[j] = 0\n",
    "            if res != y[i]:\n",
    "                sum_k[j]+=1\n",
    "    prev = None\n",
    "    for i in sum_k.items():\n",
    "        if prev is not None:\n",
    "            plt.plot([prev[0],i[0]], [prev[1], i[1]], color = \"red\")\n",
    "        prev = i\n",
    "    return min(sum_k.items(), key = lambda item:item[1])[0]"
   ]
  },
  {
   "cell_type": "code",
   "execution_count": 19,
   "metadata": {},
   "outputs": [],
   "source": [
    "def Rect_kernel(r):\n",
    "    return (1/2)*(1 if math.fabs(r)<= 1 else 0)"
   ]
  },
  {
   "cell_type": "code",
   "execution_count": 20,
   "metadata": {},
   "outputs": [],
   "source": [
    "def parzen_variable(x, k, data, y, distance, kernel, weight = None):\n",
    "    if weight is None:\n",
    "        weight = [1]*data.shape[0]\n",
    "    distances = sorted(enumerate(map(lambda i: distance(x-i), data)), key = lambda i: i[1])\n",
    "    d={}\n",
    "    for index, i in enumerate(map(lambda x:x[0], distances)):\n",
    "        if y[i] not in d:\n",
    "            d[y[i]] = 0\n",
    "        d[y[i]]+=weight[i]*kernel(distances[index][1]/distances[k+1][1])\n",
    "    a = max(d.items(), key = lambda i: i[1])\n",
    "    return a[0]"
   ]
  },
  {
   "cell_type": "code",
   "execution_count": 21,
   "metadata": {},
   "outputs": [
    {
     "data": {
      "text/plain": [
       "9"
      ]
     },
     "execution_count": 21,
     "metadata": {},
     "output_type": "execute_result"
    },
    {
     "data": {
      "image/png": "[encoded data removed]",
      "text/plain": [
       "<Figure size 432x288 with 1 Axes>"
      ]
     },
     "metadata": {
      "needs_background": "light"
     },
     "output_type": "display_data"
    }
   ],
   "source": [
    "LOO(X, y, evclid_distance, lambda a1, a2, a3, a4, a5: \n",
    "    parzen_variable(a1, a2,a3,a4,a5,Rect_kernel))"
   ]
  },
  {
   "cell_type": "markdown",
   "metadata": {},
   "source": [
    "## Проблема 5. Не все признаки равнозначны.\n",
    "\n",
    "### Решение 5. Использовать разные ухищрения при нормировке. И/или использовать взвешенные метрики расстояний.\n"
   ]
  },
  {
   "cell_type": "code",
   "execution_count": 236,
   "metadata": {},
   "outputs": [],
   "source": [
    "class KNearestNeighbors():\n",
    "    \n",
    "    def __init__(self, K, dist):\n",
    "        self.K = K\n",
    "        self.dist = dist\n",
    "\n",
    "    def fit(self, x_train, y_train, x_test, y_test):\n",
    "        self.X_train = x_train\n",
    "        self.Y_train = y_train\n",
    "        self.X_test = x_test\n",
    "        self.Y_test = y_test\n",
    "        \n",
    "    def make_weights(self, k, distances):\n",
    "        result = np.zeros(k, dtype=np.float32)\n",
    "        q = list(np.linspace(0.5,1,k))\n",
    "        q.reverse()\n",
    "        for i in range(k):\n",
    "            result[i] = pow(q[i],2)\n",
    "#         result = np.zeros(k, dtype=np.float32)\n",
    "#         sum = 0.0\n",
    "#         for i in range(k):\n",
    "#             result[i] += 1.0 / distances[i]\n",
    "#             sum += result[i]\n",
    "#             print(\"SUM\", sum)\n",
    "#         result /= sum\n",
    "        return result\n",
    "    \n",
    "    def margin(self, X_test):\n",
    "\n",
    "        # list to store all our predictions\n",
    "        margins = []\n",
    "        \n",
    "        # loop over all observations\n",
    "        for i in range(len(X_test)):\n",
    "            # calculate the distance between the test point and all other points in the training set\n",
    "            dist = np.array([self.dist(X_test[i], x_t) for x_t in self.X_train])\n",
    "        \n",
    "            dist_sorted = dist.argsort()[:self.K]\n",
    "            dist.sort()\n",
    "            # sort the distances and return the indices of K neighbors\n",
    "            \n",
    "            dist.sort()\n",
    "            dist_ = dist[:self.K]\n",
    "            \n",
    "            dict_weighted = self.make_weights(self.K, dist_)\n",
    "            # get the neighbors\n",
    "            neigh_count = {}\n",
    "\n",
    "            # for each neighbor find the class\n",
    "            i = 0\n",
    "            for idx in dist_sorted:\n",
    "                if self.Y_train[idx] in neigh_count:\n",
    "                    neigh_count[self.Y_train[idx]] += dict_weighted[i]\n",
    "                else:\n",
    "                    neigh_count[self.Y_train[idx]] = dict_weighted[i]\n",
    "                i += 1\n",
    "            \n",
    "            # get the most common class label \n",
    "            sorted_neigh_count = sorted(neigh_count.items(), key=operator.itemgetter(1), reverse=True)\n",
    "#             print(sorted_neigh_count)\n",
    "            if len(neigh_count) == 3:\n",
    "                margin = sorted_neigh_count[0][1] - (sorted_neigh_count[1][1] + sorted_neigh_count[2][1])\n",
    "            elif len(neigh_count) == 2:\n",
    "                margin = sorted_neigh_count[0][1] - sorted_neigh_count[1][1] \n",
    "            else:\n",
    "                margin = sorted_neigh_count[0][1]\n",
    "            margins.append(margin)\n",
    "        return margins        \n",
    "\n",
    "    def predict(self, X_test):\n",
    "        \n",
    "        # list to store all our predictions\n",
    "        predictions = []\n",
    "        \n",
    "        # loop over all observations\n",
    "        for i in range(len(X_test)):\n",
    "            # calculate the distance between the test point and all other points in the training set\n",
    "            dist = np.array([self.dist(X_test[i], x_t) for x_t in self.X_train])\n",
    "        \n",
    "            dist_sorted = dist.argsort()[:self.K]\n",
    "            dist.sort()\n",
    "            # sort the distances and return the indices of K neighbors\n",
    "            \n",
    "            dist.sort()\n",
    "            dist_ = dist[:self.K]\n",
    "            \n",
    "            dict_weighted = self.make_weights(self.K, dist_)\n",
    "            # get the neighbors\n",
    "            neigh_count = {}\n",
    "\n",
    "            # for each neighbor find the class\n",
    "            i = 0\n",
    "            for idx in dist_sorted:\n",
    "                if self.Y_train[idx] in neigh_count:\n",
    "                    neigh_count[self.Y_train[idx]] += dict_weighted[i]\n",
    "                else:\n",
    "                    neigh_count[self.Y_train[idx]] = dict_weighted[i]\n",
    "                i += 1\n",
    "            \n",
    "            # get the most common class label \n",
    "            sorted_neigh_count = sorted(neigh_count.items(), key=operator.itemgetter(1), reverse=True)\n",
    "#             print(sorted_neigh_count)\n",
    "            predictions.append(sorted_neigh_count[0][0])\n",
    "        return predictions\n",
    "    \n",
    "    \n",
    "\n"
   ]
  },
  {
   "cell_type": "code",
   "execution_count": 237,
   "metadata": {},
   "outputs": [
    {
     "name": "stdout",
     "output_type": "stream",
     "text": [
      "Accuracy: 0.98\n"
     ]
    }
   ],
   "source": [
    "from sklearn.model_selection import train_test_split\n",
    "X_train, X_test, y_train, y_test = train_test_split(X, y, test_size=0.33, random_state=42)\n",
    "\n",
    "\n",
    "clf = KNearestNeighbors(4,euc_dist)\n",
    "clf.fit(X_train, y_train, X_test, y_test)\n",
    "\n",
    "from sklearn.metrics import accuracy_score\n",
    "predictions = clf.predict(X_test)\n",
    "# margin = clf.margin(X, y, X, y)\n",
    "# print(margin)\n",
    "\n",
    "print('Accuracy:', accuracy_score(y_test, predictions))"
   ]
  },
  {
   "cell_type": "markdown",
   "metadata": {},
   "source": [
    "## Проблема 6. Из-за того, что приходится запоминать всю выборку, проблемой могут стать очень большие объёмы обучающей выборки. \n",
    "### Решение 6. Оставлять только типичных представителей классов — эталоны. Избавляться от неинформативных и шумовых объектов."
   ]
  },
  {
   "cell_type": "code",
   "execution_count": null,
   "metadata": {},
   "outputs": [],
   "source": []
  },
  {
   "cell_type": "code",
   "execution_count": 231,
   "metadata": {},
   "outputs": [],
   "source": [
    "class KNearestNeighbors():\n",
    "    \n",
    "    def __init__(self, K, dist):\n",
    "        self.K = K\n",
    "        self.dist = dist\n",
    "\n",
    "    def fit(self, x_train, y_train, x_test, y_test):\n",
    "        self.X_train = x_train\n",
    "        self.Y_train = y_train\n",
    "        self.X_test = x_test\n",
    "        self.Y_test = y_test\n",
    "        \n",
    "    def make_weights(self, k, distances):\n",
    "        result = np.zeros(k, dtype=np.float32)\n",
    "        q = list(np.linspace(0.5,1,k))\n",
    "        q.reverse()\n",
    "        for i in range(k):\n",
    "            result[i] = pow(q[i],2)\n",
    "#         result = np.zeros(k, dtype=np.float32)\n",
    "#         sum = 0.0\n",
    "#         for i in range(k):\n",
    "#             result[i] += 1.0 / distances[i]\n",
    "#             sum += result[i]\n",
    "#             print(\"SUM\", sum)\n",
    "#         result /= sum\n",
    "        return result\n",
    "    \n",
    "    def margin(self, X_test):\n",
    "\n",
    "        # list to store all our predictions\n",
    "        margins = []\n",
    "        \n",
    "        # loop over all observations\n",
    "        for i in range(len(X_test)):\n",
    "            # calculate the distance between the test point and all other points in the training set\n",
    "            dist = np.array([self.dist(X_test[i], x_t) for x_t in self.X_train])\n",
    "        \n",
    "            dist_sorted = dist.argsort()[:self.K]\n",
    "            dist.sort()\n",
    "            # sort the distances and return the indices of K neighbors\n",
    "            \n",
    "            dist.sort()\n",
    "            dist_ = dist[:self.K]\n",
    "            \n",
    "            dict_weighted = self.make_weights(self.K, dist_)\n",
    "            # get the neighbors\n",
    "            neigh_count = {}\n",
    "\n",
    "            # for each neighbor find the class\n",
    "            i = 0\n",
    "            for idx in dist_sorted:\n",
    "                if self.Y_train[idx] in neigh_count:\n",
    "                    neigh_count[self.Y_train[idx]] += dict_weighted[i]\n",
    "                else:\n",
    "                    neigh_count[self.Y_train[idx]] = dict_weighted[i]\n",
    "                i += 1\n",
    "            \n",
    "            # get the most common class label \n",
    "            sorted_neigh_count = sorted(neigh_count.items(), key=operator.itemgetter(1), reverse=True)\n",
    "#             print(sorted_neigh_count)\n",
    "            if len(neigh_count) == 3:\n",
    "                margin = sorted_neigh_count[0][1] - (sorted_neigh_count[1][1] + sorted_neigh_count[2][1])\n",
    "            elif len(neigh_count) == 2:\n",
    "                margin = sorted_neigh_count[0][1] - sorted_neigh_count[1][1] \n",
    "            else:\n",
    "                margin = sorted_neigh_count[0][1]\n",
    "            margins.append(margin)\n",
    "        return margins        \n",
    "\n",
    "    def predict(self, X_test):\n",
    "        \n",
    "        # list to store all our predictions\n",
    "        predictions = []\n",
    "        \n",
    "        # loop over all observations\n",
    "        for i in range(len(X_test)):\n",
    "            # calculate the distance between the test point and all other points in the training set\n",
    "            dist = np.array([self.dist(X_test[i], x_t) for x_t in self.X_train])\n",
    "        \n",
    "            dist_sorted = dist.argsort()[:self.K]\n",
    "            dist.sort()\n",
    "            # sort the distances and return the indices of K neighbors\n",
    "            \n",
    "            dist.sort()\n",
    "            dist_ = dist[:self.K]\n",
    "            \n",
    "            dict_weighted = self.make_weights(self.K, dist_)\n",
    "            # get the neighbors\n",
    "            neigh_count = {}\n",
    "\n",
    "            # for each neighbor find the class\n",
    "            i = 0\n",
    "            for idx in dist_sorted:\n",
    "                if self.Y_train[idx] in neigh_count:\n",
    "                    neigh_count[self.Y_train[idx]] += dict_weighted[i]\n",
    "                else:\n",
    "                    neigh_count[self.Y_train[idx]] = dict_weighted[i]\n",
    "                i += 1\n",
    "            \n",
    "            # get the most common class label \n",
    "            sorted_neigh_count = sorted(neigh_count.items(), key=operator.itemgetter(1), reverse=True)\n",
    "#             print(sorted_neigh_count)\n",
    "            predictions.append(sorted_neigh_count[0][0])\n",
    "        return predictions\n",
    "    \n",
    "    \n",
    "    def classify(self, X, y, u, u_ans):\n",
    "        \n",
    "        # list to store all our predictions\n",
    "        predictions = []\n",
    "        \n",
    "        # loop over all observations\n",
    "        for i in range(len(u)):\n",
    "            # calculate the distance between the test point and all other points in the training set\n",
    "            dist = np.array([self.dist(u[i], x_t) for x_t in X])\n",
    "        \n",
    "            dist_sorted = dist.argsort()[:self.K]\n",
    "            dist.sort()\n",
    "            # sort the distances and return the indices of K neighbors\n",
    "            \n",
    "            dist.sort()\n",
    "            dist_ = dist[:self.K]\n",
    "            \n",
    "            dict_weighted = self.make_weights(self.K, dist_)\n",
    "            # get the neighbors\n",
    "            neigh_count = {}\n",
    "\n",
    "            # for each neighbor find the class\n",
    "            i = 0\n",
    "            for idx in dist_sorted:\n",
    "                if y[idx] in neigh_count:\n",
    "                    neigh_count[y[idx]] += dict_weighted[i]\n",
    "                else:\n",
    "                    neigh_count[y[idx]] = dict_weighted[i]\n",
    "                i += 1\n",
    "            \n",
    "            # get the most common class label \n",
    "            sorted_neigh_count = sorted(neigh_count.items(), key=operator.itemgetter(1), reverse=True)\n",
    "#             print(sorted_neigh_count)\n",
    "            predictions.append(sorted_neigh_count[0][0])\n",
    "        return predictions\n",
    "    \n",
    "    def _margin(self, X, y, u, u_ans):\n",
    "        \n",
    "        # list to store all our predictions\n",
    "        margins = []\n",
    "        \n",
    "        # loop over all observations\n",
    "        for i in range(len(u)):\n",
    "            # calculate the distance between the test point and all other points in the training set\n",
    "            dist = np.array([self.dist(u[i], x_t) for x_t in X])\n",
    "        \n",
    "            dist_sorted = dist.argsort()[:self.K]\n",
    "            dist.sort()\n",
    "            # sort the distances and return the indices of K neighbors\n",
    "            \n",
    "            dist.sort()\n",
    "            dist_ = dist[:self.K]\n",
    "            \n",
    "            dict_weighted = self.make_weights(self.K, dist_)\n",
    "            # get the neighbors\n",
    "            neigh_count = {}\n",
    "\n",
    "            # for each neighbor find the class\n",
    "            i = 0\n",
    "            for idx in dist_sorted:\n",
    "                if y[idx] in neigh_count:\n",
    "                    neigh_count[y[idx]] += dict_weighted[i]\n",
    "                else:\n",
    "                    neigh_count[y[idx]] = dict_weighted[i]\n",
    "                i += 1\n",
    "            \n",
    "            # get the most common class label \n",
    "            sorted_neigh_count = sorted(neigh_count.items(), key=operator.itemgetter(1), reverse=True)\n",
    "#             print(sorted_neigh_count)\n",
    "            if len(neigh_count) == 3:\n",
    "                margin = sorted_neigh_count[0][1] - (sorted_neigh_count[1][1] + sorted_neigh_count[2][1])\n",
    "            elif len(neigh_count) == 2:\n",
    "                margin = sorted_neigh_count[0][1] - sorted_neigh_count[1][1] \n",
    "            else:\n",
    "                margin = sorted_neigh_count[0][1]\n",
    "            margins.append(margin)\n",
    "        return margins \n",
    "    \n",
    "    def stolp(self, src_x, src_y, err_num, th, n):\n",
    "        #Step 2\n",
    "        support_x = []\n",
    "        support_y = []\n",
    "#         src_xkd = KDTree(src_x)\n",
    "        margins = np.array([self._margin(src_x, src_y, src_x, src_y)]).transpose()\n",
    "        #Step 3\n",
    "        x = src_x[margins[:, 0] > th]\n",
    "        y = src_y[margins[:, 0] > th]\n",
    "        margins = margins[margins[:, 0] > th]\n",
    "        ss = np.argsort(margins[:, 0])\n",
    "        #Step 4\n",
    "        for ans in np.unique(y):\n",
    "            for m in ss:\n",
    "                if y[m] == ans:\n",
    "                    support_x.append(x[m])\n",
    "                    support_y.append(y[m])\n",
    "                    x = np.delete(x, (m), axis=0)\n",
    "                    y = np.delete(y, (m), axis=0)\n",
    "                    break\n",
    "        errors = x.shape[0]\n",
    "        #Step 5\n",
    "        while errors > err_num:\n",
    "            errors = sum(self.classify(np.array(support_x), np.array(support_y), src_x, src_y) != src_y)\n",
    "            xkd = (np.array(support_x))\n",
    "            margins = self._margin(np.array(support_x), np.array(support_y), x, y)\n",
    "            ss = np.argsort(margins)\n",
    "            to_delete = []\n",
    "            m = ss[0]\n",
    "            support_x.append(x[m])\n",
    "            support_y.append(y[m])\n",
    "            to_delete.append(m)\n",
    "            x = np.delete(x, to_delete, axis=0)\n",
    "            y = np.delete(y, to_delete, axis=0)\n",
    "        return np.array(support_x), np.array(support_y)"
   ]
  },
  {
   "cell_type": "code",
   "execution_count": 235,
   "metadata": {},
   "outputs": [
    {
     "name": "stdout",
     "output_type": "stream",
     "text": [
      "errors number 14\n",
      "errors number 19\n",
      "errors number 51\n",
      "errors number 15\n",
      "errors number 5\n",
      "errors number 14\n",
      "errors number 19\n",
      "errors number 51\n",
      "errors number 15\n",
      "errors number 5\n",
      "Accuracy: 0.98\n"
     ]
    }
   ],
   "source": [
    "from sklearn.model_selection import train_test_split\n",
    "X_train, X_test, y_train, y_test = train_test_split(X, y, test_size=0.33, random_state=42)\n",
    "\n",
    "\n",
    "clf = KNearestNeighbors(4,euc_dist)\n",
    "clf.fit(X_train, y_train, X_test, y_test)\n",
    "\n",
    "from sklearn.metrics import accuracy_score\n",
    "# predictions = clf.predict(X_test)\n",
    "# margin = clf.margin(X, y, X, y)\n",
    "# print(margin)\n",
    "err_num = 5\n",
    "th = 0.3\n",
    "# print(clf.stolp(X_test, y_test, err_num, th, 4))\n",
    "X_stolp = clf.stolp(X, y, err_num, th, 4)[0]\n",
    "y_stolp = clf.stolp(X, y, err_num, th, 4)[1]\n",
    "print('Accuracy:', accuracy_score(y_test, predictions))"
   ]
  },
  {
   "cell_type": "code",
   "execution_count": 227,
   "metadata": {},
   "outputs": [
    {
     "data": {
      "text/plain": [
       "array([[4.8, 3. , 1.4, 0.3],\n",
       "       [6.2, 2.2, 4.5, 1.5],\n",
       "       [6.5, 3. , 5.8, 2.2],\n",
       "       [6.1, 2.8, 4.7, 1.2],\n",
       "       [5.7, 3.8, 1.7, 0.3],\n",
       "       [7.7, 2.6, 6.9, 2.3],\n",
       "       [6.7, 2.5, 5.8, 1.8],\n",
       "       [6. , 2.9, 4.5, 1.5],\n",
       "       [6.5, 3.2, 5.1, 2. ],\n",
       "       [6.7, 3.1, 4.7, 1.5],\n",
       "       [4.7, 3.2, 1.6, 0.2],\n",
       "       [6.3, 2.5, 5. , 1.9],\n",
       "       [6.3, 2.8, 5.1, 1.5]])"
      ]
     },
     "execution_count": 227,
     "metadata": {},
     "output_type": "execute_result"
    }
   ],
   "source": [
    "X_stolp"
   ]
  },
  {
   "cell_type": "code",
   "execution_count": 228,
   "metadata": {},
   "outputs": [
    {
     "data": {
      "text/plain": [
       "array([0, 1, 2, 1, 0, 2, 2, 1, 2, 1, 0, 2, 2])"
      ]
     },
     "execution_count": 228,
     "metadata": {},
     "output_type": "execute_result"
    }
   ],
   "source": [
    "y_stolp"
   ]
  },
  {
   "cell_type": "code",
   "execution_count": null,
   "metadata": {},
   "outputs": [],
   "source": []
  },
  {
   "cell_type": "markdown",
   "metadata": {},
   "source": [
    "## Проблема 7. Признаков слишком много – это так называемая проблема проклятия размерности. \n",
    "### Решение 7. Использовать feature engineering или методы снижения размерности."
   ]
  },
  {
   "cell_type": "code",
   "execution_count": 289,
   "metadata": {},
   "outputs": [],
   "source": [
    "from sklearn.ensemble import RandomForestRegressor\n",
    "model = RandomForestRegressor(random_state=1, max_depth=10)\n",
    "\n",
    "dataset = load_iris()\n",
    "X, y = dataset.data, dataset.target  # pylint: disable=no-member\n",
    "# clf = DecisionTreeClassifier(max_depth=2)\n",
    "# clf.fit(X, y)\n",
    "# df['label'] = df.target\n",
    "# df = df.drop(['target'], axis=1)\n",
    "df= pd.DataFrame(data= np.c_[dataset['data'], dataset['target']],\n",
    "                 columns= dataset['feature_names'] + ['target'])\n",
    "df.columns = df.columns.str.replace(' ', '_')\n",
    "df = df.rename(columns={\"species\": \"label\"})\n",
    "label = df.target\n",
    "df = df.drop(['target'], axis=1)"
   ]
  },
  {
   "cell_type": "code",
   "execution_count": 290,
   "metadata": {},
   "outputs": [
    {
     "data": {
      "text/plain": [
       "RandomForestRegressor(max_depth=10, random_state=1)"
      ]
     },
     "execution_count": 290,
     "metadata": {},
     "output_type": "execute_result"
    }
   ],
   "source": [
    "model.fit(df,label)"
   ]
  },
  {
   "cell_type": "code",
   "execution_count": 291,
   "metadata": {},
   "outputs": [
    {
     "data": {
      "image/png": "[encoded data removed]",
      "text/plain": [
       "<Figure size 432x288 with 1 Axes>"
      ]
     },
     "metadata": {
      "needs_background": "light"
     },
     "output_type": "display_data"
    }
   ],
   "source": [
    "features = df.columns\n",
    "importances = model.feature_importances_\n",
    "indices = np.argsort(importances)[-9:]  # top 10 features\n",
    "plt.title('Feature Importances')\n",
    "plt.barh(range(len(indices)), importances[indices], color='b', align='center')\n",
    "plt.yticks(range(len(indices)), [features[i] for i in indices])\n",
    "plt.xlabel('Relative Importance')\n",
    "plt.show()"
   ]
  },
  {
   "cell_type": "code",
   "execution_count": 292,
   "metadata": {},
   "outputs": [],
   "source": [
    "df.drop(['sepal_length_(cm)', 'sepal_width_(cm)'], axis = 1, inplace=True)"
   ]
  },
  {
   "cell_type": "code",
   "execution_count": 293,
   "metadata": {},
   "outputs": [
    {
     "data": {
      "text/html": [
       "<div>\n",
       "<style scoped>\n",
       "    .dataframe tbody tr th:only-of-type {\n",
       "        vertical-align: middle;\n",
       "    }\n",
       "\n",
       "    .dataframe tbody tr th {\n",
       "        vertical-align: top;\n",
       "    }\n",
       "\n",
       "    .dataframe thead th {\n",
       "        text-align: right;\n",
       "    }\n",
       "</style>\n",
       "<table border=\"1\" class=\"dataframe\">\n",
       "  <thead>\n",
       "    <tr style=\"text-align: right;\">\n",
       "      <th></th>\n",
       "      <th>petal_length_(cm)</th>\n",
       "      <th>petal_width_(cm)</th>\n",
       "    </tr>\n",
       "  </thead>\n",
       "  <tbody>\n",
       "    <tr>\n",
       "      <th>0</th>\n",
       "      <td>1.4</td>\n",
       "      <td>0.2</td>\n",
       "    </tr>\n",
       "    <tr>\n",
       "      <th>1</th>\n",
       "      <td>1.4</td>\n",
       "      <td>0.2</td>\n",
       "    </tr>\n",
       "    <tr>\n",
       "      <th>2</th>\n",
       "      <td>1.3</td>\n",
       "      <td>0.2</td>\n",
       "    </tr>\n",
       "    <tr>\n",
       "      <th>3</th>\n",
       "      <td>1.5</td>\n",
       "      <td>0.2</td>\n",
       "    </tr>\n",
       "    <tr>\n",
       "      <th>4</th>\n",
       "      <td>1.4</td>\n",
       "      <td>0.2</td>\n",
       "    </tr>\n",
       "    <tr>\n",
       "      <th>...</th>\n",
       "      <td>...</td>\n",
       "      <td>...</td>\n",
       "    </tr>\n",
       "    <tr>\n",
       "      <th>145</th>\n",
       "      <td>5.2</td>\n",
       "      <td>2.3</td>\n",
       "    </tr>\n",
       "    <tr>\n",
       "      <th>146</th>\n",
       "      <td>5.0</td>\n",
       "      <td>1.9</td>\n",
       "    </tr>\n",
       "    <tr>\n",
       "      <th>147</th>\n",
       "      <td>5.2</td>\n",
       "      <td>2.0</td>\n",
       "    </tr>\n",
       "    <tr>\n",
       "      <th>148</th>\n",
       "      <td>5.4</td>\n",
       "      <td>2.3</td>\n",
       "    </tr>\n",
       "    <tr>\n",
       "      <th>149</th>\n",
       "      <td>5.1</td>\n",
       "      <td>1.8</td>\n",
       "    </tr>\n",
       "  </tbody>\n",
       "</table>\n",
       "<p>150 rows × 2 columns</p>\n",
       "</div>"
      ],
      "text/plain": [
       "     petal_length_(cm)  petal_width_(cm)\n",
       "0                  1.4               0.2\n",
       "1                  1.4               0.2\n",
       "2                  1.3               0.2\n",
       "3                  1.5               0.2\n",
       "4                  1.4               0.2\n",
       "..                 ...               ...\n",
       "145                5.2               2.3\n",
       "146                5.0               1.9\n",
       "147                5.2               2.0\n",
       "148                5.4               2.3\n",
       "149                5.1               1.8\n",
       "\n",
       "[150 rows x 2 columns]"
      ]
     },
     "execution_count": 293,
     "metadata": {},
     "output_type": "execute_result"
    }
   ],
   "source": [
    "df"
   ]
  },
  {
   "cell_type": "code",
   "execution_count": null,
   "metadata": {},
   "outputs": [],
   "source": []
  }
 ],
 "metadata": {
  "colab": {
   "collapsed_sections": [
    "pJyxgxErLqbg"
   ],
   "name": "kNN.ipynb",
   "provenance": [],
   "toc_visible": true
  },
  "kernelspec": {
   "display_name": "Python 3",
   "language": "python",
   "name": "python3"
  },
  "language_info": {
   "codemirror_mode": {
    "name": "ipython",
    "version": 3
   },
   "file_extension": ".py",
   "mimetype": "text/x-python",
   "name": "python",
   "nbconvert_exporter": "python",
   "pygments_lexer": "ipython3",
   "version": "3.8.3"
  },
  "toc": {
   "base_numbering": 1,
   "nav_menu": {},
   "number_sections": true,
   "sideBar": true,
   "skip_h1_title": false,
   "title_cell": "Table of Contents",
   "title_sidebar": "Contents",
   "toc_cell": false,
   "toc_position": {},
   "toc_section_display": true,
   "toc_window_display": false
  }
 },
 "nbformat": 4,
 "nbformat_minor": 1
}
