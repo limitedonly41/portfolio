{
 "cells": [
  {
   "cell_type": "code",
   "execution_count": 1,
   "metadata": {},
   "outputs": [],
   "source": [
    "import numpy as np\n",
    "import pandas as pd\n",
    "import statsmodels.formula.api as smf\n",
    "import statsmodels.stats.api as sms\n",
    "import matplotlib.pyplot as plt"
   ]
  },
  {
   "cell_type": "code",
   "execution_count": 2,
   "metadata": {},
   "outputs": [],
   "source": [
    "df = pd.read_csv('malocclusion.csv', sep = ',')"
   ]
  },
  {
   "cell_type": "code",
   "execution_count": 3,
   "metadata": {},
   "outputs": [
    {
     "data": {
      "text/html": [
       "<div>\n",
       "<style scoped>\n",
       "    .dataframe tbody tr th:only-of-type {\n",
       "        vertical-align: middle;\n",
       "    }\n",
       "\n",
       "    .dataframe tbody tr th {\n",
       "        vertical-align: top;\n",
       "    }\n",
       "\n",
       "    .dataframe thead th {\n",
       "        text-align: right;\n",
       "    }\n",
       "</style>\n",
       "<table border=\"1\" class=\"dataframe\">\n",
       "  <thead>\n",
       "    <tr style=\"text-align: right;\">\n",
       "      <th></th>\n",
       "      <th>dANB</th>\n",
       "      <th>dPPPM</th>\n",
       "      <th>dIMPA</th>\n",
       "      <th>dCoA</th>\n",
       "      <th>dGoPg</th>\n",
       "      <th>dCoGo</th>\n",
       "      <th>dT</th>\n",
       "      <th>Growth</th>\n",
       "      <th>Treatment</th>\n",
       "    </tr>\n",
       "  </thead>\n",
       "  <tbody>\n",
       "    <tr>\n",
       "      <th>0</th>\n",
       "      <td>-3.2</td>\n",
       "      <td>-1.1</td>\n",
       "      <td>-4.2</td>\n",
       "      <td>1.0</td>\n",
       "      <td>4.0</td>\n",
       "      <td>3.7</td>\n",
       "      <td>5</td>\n",
       "      <td>0</td>\n",
       "      <td>0</td>\n",
       "    </tr>\n",
       "    <tr>\n",
       "      <th>1</th>\n",
       "      <td>-0.6</td>\n",
       "      <td>-0.5</td>\n",
       "      <td>3.8</td>\n",
       "      <td>2.6</td>\n",
       "      <td>-0.1</td>\n",
       "      <td>1.4</td>\n",
       "      <td>3</td>\n",
       "      <td>1</td>\n",
       "      <td>0</td>\n",
       "    </tr>\n",
       "    <tr>\n",
       "      <th>2</th>\n",
       "      <td>-1.6</td>\n",
       "      <td>-3.1</td>\n",
       "      <td>-6.0</td>\n",
       "      <td>4.3</td>\n",
       "      <td>4.2</td>\n",
       "      <td>7.1</td>\n",
       "      <td>5</td>\n",
       "      <td>0</td>\n",
       "      <td>0</td>\n",
       "    </tr>\n",
       "    <tr>\n",
       "      <th>3</th>\n",
       "      <td>-1.1</td>\n",
       "      <td>-2.1</td>\n",
       "      <td>-12.1</td>\n",
       "      <td>14.1</td>\n",
       "      <td>20.7</td>\n",
       "      <td>17.5</td>\n",
       "      <td>9</td>\n",
       "      <td>0</td>\n",
       "      <td>0</td>\n",
       "    </tr>\n",
       "    <tr>\n",
       "      <th>4</th>\n",
       "      <td>-1.1</td>\n",
       "      <td>0.0</td>\n",
       "      <td>-6.7</td>\n",
       "      <td>7.7</td>\n",
       "      <td>8.8</td>\n",
       "      <td>11.0</td>\n",
       "      <td>5</td>\n",
       "      <td>0</td>\n",
       "      <td>0</td>\n",
       "    </tr>\n",
       "    <tr>\n",
       "      <th>...</th>\n",
       "      <td>...</td>\n",
       "      <td>...</td>\n",
       "      <td>...</td>\n",
       "      <td>...</td>\n",
       "      <td>...</td>\n",
       "      <td>...</td>\n",
       "      <td>...</td>\n",
       "      <td>...</td>\n",
       "      <td>...</td>\n",
       "    </tr>\n",
       "    <tr>\n",
       "      <th>138</th>\n",
       "      <td>0.8</td>\n",
       "      <td>-2.1</td>\n",
       "      <td>-2.0</td>\n",
       "      <td>2.7</td>\n",
       "      <td>2.0</td>\n",
       "      <td>3.3</td>\n",
       "      <td>5</td>\n",
       "      <td>1</td>\n",
       "      <td>1</td>\n",
       "    </tr>\n",
       "    <tr>\n",
       "      <th>139</th>\n",
       "      <td>2.1</td>\n",
       "      <td>0.7</td>\n",
       "      <td>1.4</td>\n",
       "      <td>8.2</td>\n",
       "      <td>12.8</td>\n",
       "      <td>9.1</td>\n",
       "      <td>10</td>\n",
       "      <td>1</td>\n",
       "      <td>1</td>\n",
       "    </tr>\n",
       "    <tr>\n",
       "      <th>140</th>\n",
       "      <td>-0.2</td>\n",
       "      <td>-3.3</td>\n",
       "      <td>-2.7</td>\n",
       "      <td>6.8</td>\n",
       "      <td>3.4</td>\n",
       "      <td>10.9</td>\n",
       "      <td>4</td>\n",
       "      <td>1</td>\n",
       "      <td>1</td>\n",
       "    </tr>\n",
       "    <tr>\n",
       "      <th>141</th>\n",
       "      <td>1.5</td>\n",
       "      <td>-3.5</td>\n",
       "      <td>1.8</td>\n",
       "      <td>4.6</td>\n",
       "      <td>6.5</td>\n",
       "      <td>6.2</td>\n",
       "      <td>5</td>\n",
       "      <td>1</td>\n",
       "      <td>1</td>\n",
       "    </tr>\n",
       "    <tr>\n",
       "      <th>142</th>\n",
       "      <td>1.3</td>\n",
       "      <td>-3.0</td>\n",
       "      <td>-19.0</td>\n",
       "      <td>7.0</td>\n",
       "      <td>4.5</td>\n",
       "      <td>6.0</td>\n",
       "      <td>2</td>\n",
       "      <td>1</td>\n",
       "      <td>1</td>\n",
       "    </tr>\n",
       "  </tbody>\n",
       "</table>\n",
       "<p>143 rows × 9 columns</p>\n",
       "</div>"
      ],
      "text/plain": [
       "     dANB  dPPPM  dIMPA  dCoA  dGoPg  dCoGo  dT  Growth  Treatment\n",
       "0    -3.2   -1.1   -4.2   1.0    4.0    3.7   5       0          0\n",
       "1    -0.6   -0.5    3.8   2.6   -0.1    1.4   3       1          0\n",
       "2    -1.6   -3.1   -6.0   4.3    4.2    7.1   5       0          0\n",
       "3    -1.1   -2.1  -12.1  14.1   20.7   17.5   9       0          0\n",
       "4    -1.1    0.0   -6.7   7.7    8.8   11.0   5       0          0\n",
       "..    ...    ...    ...   ...    ...    ...  ..     ...        ...\n",
       "138   0.8   -2.1   -2.0   2.7    2.0    3.3   5       1          1\n",
       "139   2.1    0.7    1.4   8.2   12.8    9.1  10       1          1\n",
       "140  -0.2   -3.3   -2.7   6.8    3.4   10.9   4       1          1\n",
       "141   1.5   -3.5    1.8   4.6    6.5    6.2   5       1          1\n",
       "142   1.3   -3.0  -19.0   7.0    4.5    6.0   2       1          1\n",
       "\n",
       "[143 rows x 9 columns]"
      ]
     },
     "execution_count": 3,
     "metadata": {},
     "output_type": "execute_result"
    }
   ],
   "source": [
    "df"
   ]
  },
  {
   "cell_type": "markdown",
   "metadata": {},
   "source": [
    "Treatment on Growth, treatment on dANB, both ATE and ATET"
   ]
  },
  {
   "cell_type": "markdown",
   "metadata": {},
   "source": [
    "1. Selection of covariates to adjust for (informed by the graph)\n",
    "2. Application of most suitable adjustiment method.\n",
    "3. Estimates of ATE and ATET"
   ]
  },
  {
   "cell_type": "markdown",
   "metadata": {},
   "source": [
    "![](graph.png)"
   ]
  },
  {
   "cell_type": "markdown",
   "metadata": {},
   "source": [
    "Naive estimator of ATE"
   ]
  },
  {
   "cell_type": "code",
   "execution_count": 4,
   "metadata": {},
   "outputs": [
    {
     "data": {
      "text/plain": [
       "0.1471861471861472"
      ]
     },
     "execution_count": 4,
     "metadata": {},
     "output_type": "execute_result"
    }
   ],
   "source": [
    "df.Growth[df.Treatment == 1].mean() - df.Growth[df.Treatment == 0].mean()"
   ]
  },
  {
   "cell_type": "code",
   "execution_count": 5,
   "metadata": {},
   "outputs": [
    {
     "data": {
      "text/plain": [
       "2.0287878787878784"
      ]
     },
     "execution_count": 5,
     "metadata": {},
     "output_type": "execute_result"
    }
   ],
   "source": [
    "df.dANB[df.Treatment == 1].mean() - df.dANB[df.Treatment == 0].mean()"
   ]
  },
  {
   "cell_type": "markdown",
   "metadata": {},
   "source": [
    "The result are very biased because the data do not come from randomnized experiment - there are features we need to adjust for."
   ]
  },
  {
   "cell_type": "markdown",
   "metadata": {},
   "source": [
    "We start analyzing the graph. "
   ]
  },
  {
   "cell_type": "markdown",
   "metadata": {},
   "source": [
    "# Undirected paths from Treatment to Growth.\n",
    "1. Treatment <- Unobserved Cofounder -> dT -> Growth\n",
    "2. Treatment <- Unobserved Cofounder -> Growth\n",
    "3. Treatment -> dCoA -> dGoPg <- dT -> Growth\n",
    "4. Treatment -> dCoA -> dGoPg <- dT <- Unobserved Cofounder -> Growth\n",
    "5. Treatment -> dCoA -> dCoGo <- dT -> Growth\n",
    "6. Treatment -> dCoA -> dCoGo <- dT <- Unobserved Cofounder -> Growth\n",
    "7. Treatment -> dCoA -> dCoGo -> dPPM -> dIMPA <- dANB <- Growth"
   ]
  },
  {
   "cell_type": "markdown",
   "metadata": {},
   "source": [
    "Because there is unobserved cofounder, we cannot find adjustment set that blocks all undirected path. Path2 cannot be blocked. Treatment <- Unobserved Cofounder -> Growth."
   ]
  },
  {
   "cell_type": "markdown",
   "metadata": {},
   "source": [
    "So ATE and ATET for effect of Treatment on Growth is 0."
   ]
  },
  {
   "cell_type": "markdown",
   "metadata": {},
   "source": [
    "# Directed path from Treatment to dANB\n",
    "\n",
    "Treatment -> dANB"
   ]
  },
  {
   "cell_type": "markdown",
   "metadata": {},
   "source": [
    "# Undirected paths from Treatment to dANB.\n",
    "\n",
    "1. Treatment <- Unobserved Cofounder -> Growth -> dANB\n",
    "2. Treatment <- Unobserved Cofounder -> dT -> Growth -> dANB\n",
    "3. Treatment -> dCoA -> dGoPg <- dT -> Growth -> dANB\n",
    "4. Treatment -> dCoA -> dGoPg <- dT <- Unobserved Cofounder -> Growth -> dANB\n",
    "5. Treatment -> dCoA -> dCoGo <- dT -> Growth\n",
    "6. Treatment -> dCoA -> dCoGo <- dT <- Unobserved Cofounder -> Growth -> dANB\n",
    "7. Treatment -> dCoA -> dCoGo -> dPPM -> dIMPA <- dANB"
   ]
  },
  {
   "cell_type": "markdown",
   "metadata": {},
   "source": [
    "Adjustment set: {Growth}. Path4, Path5, Path6 and Path 7 have collider that blocks path. Growth blocked path1 and path 2. Including collider in the adjustment set will introduce additional bias."
   ]
  },
  {
   "cell_type": "markdown",
   "metadata": {},
   "source": [
    "Let's take into Growth into account, and use linear regression to estimate ATE."
   ]
  },
  {
   "cell_type": "markdown",
   "metadata": {},
   "source": [
    "# Regression"
   ]
  },
  {
   "cell_type": "code",
   "execution_count": 6,
   "metadata": {
    "scrolled": true
   },
   "outputs": [
    {
     "name": "stdout",
     "output_type": "stream",
     "text": [
      "                            OLS Regression Results                            \n",
      "==============================================================================\n",
      "Dep. Variable:                   dANB   R-squared:                       0.407\n",
      "Model:                            OLS   Adj. R-squared:                  0.398\n",
      "Method:                 Least Squares   F-statistic:                     48.04\n",
      "Date:                Sat, 18 Sep 2021   Prob (F-statistic):           1.31e-16\n",
      "Time:                        15:28:33   Log-Likelihood:                -251.17\n",
      "No. Observations:                 143   AIC:                             508.3\n",
      "Df Residuals:                     140   BIC:                             517.2\n",
      "Df Model:                           2                                         \n",
      "Covariance Type:            nonrobust                                         \n",
      "==============================================================================\n",
      "                 coef    std err          t      P>|t|      [0.025      0.975]\n",
      "------------------------------------------------------------------------------\n",
      "Intercept     -1.5600      0.181     -8.609      0.000      -1.918      -1.202\n",
      "Growth         1.1740      0.244      4.812      0.000       0.692       1.656\n",
      "Treatment      1.8560      0.240      7.724      0.000       1.381       2.331\n",
      "==============================================================================\n",
      "Omnibus:                        7.303   Durbin-Watson:                   2.122\n",
      "Prob(Omnibus):                  0.026   Jarque-Bera (JB):                7.911\n",
      "Skew:                           0.383   Prob(JB):                       0.0191\n",
      "Kurtosis:                       3.862   Cond. No.                         2.77\n",
      "==============================================================================\n",
      "\n",
      "Notes:\n",
      "[1] Standard Errors assume that the covariance matrix of the errors is correctly specified.\n"
     ]
    }
   ],
   "source": [
    "m = smf.ols('dANB ~ Growth + Treatment', data=df)\n",
    "fitted = m.fit()\n",
    "print(fitted.summary())"
   ]
  },
  {
   "cell_type": "markdown",
   "metadata": {},
   "source": [
    "ATE estimate is the coefficient of Treatment variable - 1.8560. Note that the coefficient is significantly different from $0$ as the p-value is less than $0.05$. The confidence interval contains the range of its true value."
   ]
  },
  {
   "cell_type": "markdown",
   "metadata": {},
   "source": [
    "# Propensity Score"
   ]
  },
  {
   "cell_type": "code",
   "execution_count": 7,
   "metadata": {
    "scrolled": true
   },
   "outputs": [
    {
     "data": {
      "text/html": [
       "<div>\n",
       "<style scoped>\n",
       "    .dataframe tbody tr th:only-of-type {\n",
       "        vertical-align: middle;\n",
       "    }\n",
       "\n",
       "    .dataframe tbody tr th {\n",
       "        vertical-align: top;\n",
       "    }\n",
       "\n",
       "    .dataframe thead th {\n",
       "        text-align: right;\n",
       "    }\n",
       "</style>\n",
       "<table border=\"1\" class=\"dataframe\">\n",
       "  <thead>\n",
       "    <tr style=\"text-align: right;\">\n",
       "      <th></th>\n",
       "      <th>dANB</th>\n",
       "      <th>dPPPM</th>\n",
       "      <th>dIMPA</th>\n",
       "      <th>dCoA</th>\n",
       "      <th>dGoPg</th>\n",
       "      <th>dCoGo</th>\n",
       "      <th>dT</th>\n",
       "      <th>Growth</th>\n",
       "      <th>Treatment</th>\n",
       "      <th>e</th>\n",
       "    </tr>\n",
       "  </thead>\n",
       "  <tbody>\n",
       "    <tr>\n",
       "      <th>0</th>\n",
       "      <td>-3.2</td>\n",
       "      <td>-1.1</td>\n",
       "      <td>-4.2</td>\n",
       "      <td>1.0</td>\n",
       "      <td>4.0</td>\n",
       "      <td>3.7</td>\n",
       "      <td>5</td>\n",
       "      <td>0</td>\n",
       "      <td>0</td>\n",
       "      <td>0.34318</td>\n",
       "    </tr>\n",
       "    <tr>\n",
       "      <th>1</th>\n",
       "      <td>-0.6</td>\n",
       "      <td>-0.5</td>\n",
       "      <td>3.8</td>\n",
       "      <td>2.6</td>\n",
       "      <td>-0.1</td>\n",
       "      <td>1.4</td>\n",
       "      <td>3</td>\n",
       "      <td>1</td>\n",
       "      <td>0</td>\n",
       "      <td>0.42124</td>\n",
       "    </tr>\n",
       "    <tr>\n",
       "      <th>2</th>\n",
       "      <td>-1.6</td>\n",
       "      <td>-3.1</td>\n",
       "      <td>-6.0</td>\n",
       "      <td>4.3</td>\n",
       "      <td>4.2</td>\n",
       "      <td>7.1</td>\n",
       "      <td>5</td>\n",
       "      <td>0</td>\n",
       "      <td>0</td>\n",
       "      <td>0.34318</td>\n",
       "    </tr>\n",
       "    <tr>\n",
       "      <th>3</th>\n",
       "      <td>-1.1</td>\n",
       "      <td>-2.1</td>\n",
       "      <td>-12.1</td>\n",
       "      <td>14.1</td>\n",
       "      <td>20.7</td>\n",
       "      <td>17.5</td>\n",
       "      <td>9</td>\n",
       "      <td>0</td>\n",
       "      <td>0</td>\n",
       "      <td>0.34318</td>\n",
       "    </tr>\n",
       "    <tr>\n",
       "      <th>4</th>\n",
       "      <td>-1.1</td>\n",
       "      <td>0.0</td>\n",
       "      <td>-6.7</td>\n",
       "      <td>7.7</td>\n",
       "      <td>8.8</td>\n",
       "      <td>11.0</td>\n",
       "      <td>5</td>\n",
       "      <td>0</td>\n",
       "      <td>0</td>\n",
       "      <td>0.34318</td>\n",
       "    </tr>\n",
       "  </tbody>\n",
       "</table>\n",
       "</div>"
      ],
      "text/plain": [
       "   dANB  dPPPM  dIMPA  dCoA  dGoPg  dCoGo  dT  Growth  Treatment        e\n",
       "0  -3.2   -1.1   -4.2   1.0    4.0    3.7   5       0          0  0.34318\n",
       "1  -0.6   -0.5    3.8   2.6   -0.1    1.4   3       1          0  0.42124\n",
       "2  -1.6   -3.1   -6.0   4.3    4.2    7.1   5       0          0  0.34318\n",
       "3  -1.1   -2.1  -12.1  14.1   20.7   17.5   9       0          0  0.34318\n",
       "4  -1.1    0.0   -6.7   7.7    8.8   11.0   5       0          0  0.34318"
      ]
     },
     "execution_count": 7,
     "metadata": {},
     "output_type": "execute_result"
    }
   ],
   "source": [
    "from sklearn.linear_model import LogisticRegression\n",
    "from sklearn.calibration import CalibratedClassifierCV\n",
    "\n",
    "# classifier to estimate the propensity score\n",
    "cls = LogisticRegression()\n",
    "\n",
    "# calibration of the classifier\n",
    "cls = CalibratedClassifierCV(cls)\n",
    "\n",
    "X = df[['Growth']]\n",
    "y = df['Treatment']\n",
    "cls.fit(X, y)\n",
    "df['e'] = cls.predict_proba(X)[:,1].tolist()\n",
    "df.head()"
   ]
  },
  {
   "cell_type": "code",
   "execution_count": 8,
   "metadata": {},
   "outputs": [],
   "source": [
    "df['w'] = df['Treatment'] / df['e'] + (1 - df['Treatment']) / (1 - df['e'])"
   ]
  },
  {
   "cell_type": "code",
   "execution_count": 9,
   "metadata": {
    "scrolled": true
   },
   "outputs": [
    {
     "name": "stdout",
     "output_type": "stream",
     "text": [
      "                            WLS Regression Results                            \n",
      "==============================================================================\n",
      "Dep. Variable:                   dANB   R-squared:                       0.386\n",
      "Model:                            WLS   Adj. R-squared:                  0.378\n",
      "Method:                 Least Squares   F-statistic:                     44.06\n",
      "Date:                Sat, 18 Sep 2021   Prob (F-statistic):           1.44e-15\n",
      "Time:                        15:28:34   Log-Likelihood:                -253.68\n",
      "No. Observations:                 143   AIC:                             513.4\n",
      "Df Residuals:                     140   BIC:                             522.3\n",
      "Df Model:                           2                                         \n",
      "Covariance Type:            nonrobust                                         \n",
      "==============================================================================\n",
      "                 coef    std err          t      P>|t|      [0.025      0.975]\n",
      "------------------------------------------------------------------------------\n",
      "Intercept     -1.5572      0.205     -7.609      0.000      -1.962      -1.153\n",
      "Treatment      1.8570      0.241      7.701      0.000       1.380       2.334\n",
      "Growth         1.1681      0.242      4.834      0.000       0.690       1.646\n",
      "==============================================================================\n",
      "Omnibus:                        4.472   Durbin-Watson:                   2.113\n",
      "Prob(Omnibus):                  0.107   Jarque-Bera (JB):                4.087\n",
      "Skew:                           0.312   Prob(JB):                        0.130\n",
      "Kurtosis:                       3.545   Cond. No.                         3.17\n",
      "==============================================================================\n",
      "\n",
      "Notes:\n",
      "[1] Standard Errors assume that the covariance matrix of the errors is correctly specified.\n"
     ]
    }
   ],
   "source": [
    "m = smf.wls('dANB~ Treatment + Growth', data=df, weights=df['w'])\n",
    "fitted = m.fit()\n",
    "print(fitted.summary())"
   ]
  },
  {
   "cell_type": "markdown",
   "metadata": {},
   "source": [
    "As we can see from the result, the estimated ATE - 1.8570 is very close from the result from Regression analysis."
   ]
  },
  {
   "cell_type": "markdown",
   "metadata": {},
   "source": [
    "# Matching"
   ]
  },
  {
   "cell_type": "markdown",
   "metadata": {},
   "source": [
    "We can calculate the mean difference of dANB to estimate ATET by matching."
   ]
  },
  {
   "cell_type": "code",
   "execution_count": 10,
   "metadata": {},
   "outputs": [],
   "source": [
    "unique_on_Growth = (df.query(\"Treatment == 0\").drop_duplicates(\"Growth\"))"
   ]
  },
  {
   "cell_type": "code",
   "execution_count": 11,
   "metadata": {},
   "outputs": [
    {
     "data": {
      "text/html": [
       "<div>\n",
       "<style scoped>\n",
       "    .dataframe tbody tr th:only-of-type {\n",
       "        vertical-align: middle;\n",
       "    }\n",
       "\n",
       "    .dataframe tbody tr th {\n",
       "        vertical-align: top;\n",
       "    }\n",
       "\n",
       "    .dataframe thead th {\n",
       "        text-align: right;\n",
       "    }\n",
       "</style>\n",
       "<table border=\"1\" class=\"dataframe\">\n",
       "  <thead>\n",
       "    <tr style=\"text-align: right;\">\n",
       "      <th></th>\n",
       "      <th>dANB</th>\n",
       "      <th>dPPPM</th>\n",
       "      <th>dIMPA</th>\n",
       "      <th>dCoA</th>\n",
       "      <th>dGoPg</th>\n",
       "      <th>dCoGo</th>\n",
       "      <th>dT</th>\n",
       "      <th>Growth</th>\n",
       "      <th>Treatment</th>\n",
       "      <th>e</th>\n",
       "      <th>w</th>\n",
       "    </tr>\n",
       "  </thead>\n",
       "  <tbody>\n",
       "    <tr>\n",
       "      <th>0</th>\n",
       "      <td>-3.2</td>\n",
       "      <td>-1.1</td>\n",
       "      <td>-4.2</td>\n",
       "      <td>1.0</td>\n",
       "      <td>4.0</td>\n",
       "      <td>3.7</td>\n",
       "      <td>5</td>\n",
       "      <td>0</td>\n",
       "      <td>0</td>\n",
       "      <td>0.34318</td>\n",
       "      <td>1.522486</td>\n",
       "    </tr>\n",
       "    <tr>\n",
       "      <th>1</th>\n",
       "      <td>-0.6</td>\n",
       "      <td>-0.5</td>\n",
       "      <td>3.8</td>\n",
       "      <td>2.6</td>\n",
       "      <td>-0.1</td>\n",
       "      <td>1.4</td>\n",
       "      <td>3</td>\n",
       "      <td>1</td>\n",
       "      <td>0</td>\n",
       "      <td>0.42124</td>\n",
       "      <td>1.727833</td>\n",
       "    </tr>\n",
       "  </tbody>\n",
       "</table>\n",
       "</div>"
      ],
      "text/plain": [
       "   dANB  dPPPM  dIMPA  dCoA  dGoPg  dCoGo  dT  Growth  Treatment        e  \\\n",
       "0  -3.2   -1.1   -4.2   1.0    4.0    3.7   5       0          0  0.34318   \n",
       "1  -0.6   -0.5    3.8   2.6   -0.1    1.4   3       1          0  0.42124   \n",
       "\n",
       "          w  \n",
       "0  1.522486  \n",
       "1  1.727833  "
      ]
     },
     "execution_count": 11,
     "metadata": {},
     "output_type": "execute_result"
    }
   ],
   "source": [
    "unique_on_Growth"
   ]
  },
  {
   "cell_type": "code",
   "execution_count": 12,
   "metadata": {},
   "outputs": [],
   "source": [
    "matches = (df.query('Treatment == 1').merge(unique_on_Growth, on = [\"Growth\"], how = \"left\", suffixes = (\"_t_1\", \"_t_0\")).assign(t1_minus_t0 = lambda d: d[\"dANB_t_1\"] - d[\"dANB_t_0\"]))"
   ]
  },
  {
   "cell_type": "code",
   "execution_count": 13,
   "metadata": {},
   "outputs": [
    {
     "data": {
      "text/plain": [
       "(66, 22)"
      ]
     },
     "execution_count": 13,
     "metadata": {},
     "output_type": "execute_result"
    }
   ],
   "source": [
    "matches.shape"
   ]
  },
  {
   "cell_type": "code",
   "execution_count": 14,
   "metadata": {},
   "outputs": [
    {
     "name": "stdout",
     "output_type": "stream",
     "text": [
      "Estimated ATET\n"
     ]
    },
    {
     "data": {
      "text/plain": [
       "2.8045454545454547"
      ]
     },
     "execution_count": 14,
     "metadata": {},
     "output_type": "execute_result"
    }
   ],
   "source": [
    "print('Estimated ATET')\n",
    "matches['t1_minus_t0'].mean()"
   ]
  },
  {
   "cell_type": "markdown",
   "metadata": {},
   "source": [
    "We can compare our result with propensity score weighting method."
   ]
  },
  {
   "cell_type": "code",
   "execution_count": 15,
   "metadata": {},
   "outputs": [],
   "source": [
    "df['w1'] = df['Treatment'] + (1 - df['Treatment'])*df['e'] / (1 - df['e'])"
   ]
  },
  {
   "cell_type": "code",
   "execution_count": 16,
   "metadata": {
    "scrolled": true
   },
   "outputs": [
    {
     "name": "stdout",
     "output_type": "stream",
     "text": [
      "                            WLS Regression Results                            \n",
      "==============================================================================\n",
      "Dep. Variable:                   dANB   R-squared:                       0.390\n",
      "Model:                            WLS   Adj. R-squared:                  0.382\n",
      "Method:                 Least Squares   F-statistic:                     44.81\n",
      "Date:                Sat, 18 Sep 2021   Prob (F-statistic):           9.09e-16\n",
      "Time:                        15:28:34   Log-Likelihood:                -253.26\n",
      "No. Observations:                 143   AIC:                             512.5\n",
      "Df Residuals:                     140   BIC:                             521.4\n",
      "Df Model:                           2                                         \n",
      "Covariance Type:            nonrobust                                         \n",
      "==============================================================================\n",
      "                 coef    std err          t      P>|t|      [0.025      0.975]\n",
      "------------------------------------------------------------------------------\n",
      "Intercept     -1.5557      0.209     -7.449      0.000      -1.969      -1.143\n",
      "Treatment      1.8544      0.240      7.723      0.000       1.380       2.329\n",
      "Growth         1.1683      0.237      4.931      0.000       0.700       1.637\n",
      "==============================================================================\n",
      "Omnibus:                        5.911   Durbin-Watson:                   2.118\n",
      "Prob(Omnibus):                  0.052   Jarque-Bera (JB):                5.921\n",
      "Skew:                           0.348   Prob(JB):                       0.0518\n",
      "Kurtosis:                       3.713   Cond. No.                         3.26\n",
      "==============================================================================\n",
      "\n",
      "Notes:\n",
      "[1] Standard Errors assume that the covariance matrix of the errors is correctly specified.\n"
     ]
    }
   ],
   "source": [
    "m = smf.wls('dANB~ Treatment + Growth', data=df, weights=df['w1'])\n",
    "fitted = m.fit()\n",
    "print(fitted.summary())"
   ]
  },
  {
   "cell_type": "markdown",
   "metadata": {},
   "source": [
    "The matching we designed above is biased. Based on propensity score weighting method, ATETis $1.8544$. We can proceed to do some sanity check using causalinference module."
   ]
  },
  {
   "cell_type": "code",
   "execution_count": 17,
   "metadata": {},
   "outputs": [],
   "source": [
    "from causalinference import CausalModel\n",
    "adjustment_set = ['Growth']\n",
    "\n",
    "causal = CausalModel(\n",
    "    Y=df['dANB'].values, # outcome\n",
    "    D=df['Treatment'].values, # treatment\n",
    "    X=df[adjustment_set].values\n",
    ")"
   ]
  },
  {
   "cell_type": "code",
   "execution_count": 18,
   "metadata": {
    "scrolled": true
   },
   "outputs": [
    {
     "name": "stdout",
     "output_type": "stream",
     "text": [
      "\n",
      "Treatment Effect Estimates: Matching\n",
      "\n",
      "                     Est.       S.e.          z      P>|z|      [95% Conf. int.]\n",
      "--------------------------------------------------------------------------------\n",
      "           ATE      1.856      0.237      7.829      0.000      1.392      2.321\n",
      "           ATC      1.860      0.240      7.761      0.000      1.390      2.330\n",
      "           ATT      1.852      0.240      7.723      0.000      1.382      2.322\n",
      "\n"
     ]
    },
    {
     "name": "stderr",
     "output_type": "stream",
     "text": [
      "/home/tair/anaconda3/envs/data_science/lib/python3.8/site-packages/causalinference/estimators/matching.py:100: FutureWarning: `rcond` parameter will change to the default of machine precision times ``max(M, N)`` where M and N are the input matrix dimensions.\n",
      "To use the future default and silence this warning we advise to pass `rcond=None`, to keep using the old, explicitly pass `rcond=-1`.\n",
      "  return np.linalg.lstsq(X, Y)[0][1:]  # don't need intercept coef\n"
     ]
    }
   ],
   "source": [
    "causal.est_via_matching(bias_adj=True)\n",
    "print(causal.estimates)"
   ]
  },
  {
   "cell_type": "markdown",
   "metadata": {},
   "source": [
    "Indeed ATE is 1.856 and ATET/ATT is 1.852."
   ]
  },
  {
   "cell_type": "code",
   "execution_count": null,
   "metadata": {},
   "outputs": [],
   "source": []
  }
 ],
 "metadata": {
  "kernelspec": {
   "display_name": "Python 3",
   "language": "python",
   "name": "python3"
  },
  "language_info": {
   "codemirror_mode": {
    "name": "ipython",
    "version": 3
   },
   "file_extension": ".py",
   "mimetype": "text/x-python",
   "name": "python",
   "nbconvert_exporter": "python",
   "pygments_lexer": "ipython3",
   "version": "3.8.5"
  }
 },
 "nbformat": 4,
 "nbformat_minor": 4
}
